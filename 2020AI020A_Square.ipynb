{
  "nbformat": 4,
  "nbformat_minor": 0,
  "metadata": {
    "colab": {
      "name": "2020AI020A-Square.ipynb",
      "provenance": [],
      "authorship_tag": "ABX9TyP/K1Kx0Ivj69B+u0wISYKU",
      "include_colab_link": true
    },
    "kernelspec": {
      "name": "python3",
      "display_name": "Python 3"
    }
  },
  "cells": [
    {
      "cell_type": "markdown",
      "metadata": {
        "id": "view-in-github",
        "colab_type": "text"
      },
      "source": [
        "<a href=\"https://colab.research.google.com/github/aso1901103/AI_tech2020/blob/master/2020AI020A_Square.ipynb\" target=\"_parent\"><img src=\"https://colab.research.google.com/assets/colab-badge.svg\" alt=\"Open In Colab\"/></a>"
      ]
    },
    {
      "cell_type": "markdown",
      "metadata": {
        "id": "5RNsGmiR03Yv"
      },
      "source": [
        "### 使用するライブラリのimport"
      ]
    },
    {
      "cell_type": "code",
      "metadata": {
        "id": "HLDWOynF07nW"
      },
      "source": [
        "# ライブラリの読み込み\n",
        "import pandas as pd\n",
        "# データを学習用とテスト用にわけるライブラリ\n",
        "from sklearn.model_selection import train_test_split\n",
        "# ランダムフォレストアルゴリズムの学習モデル\n",
        "from sklearn.ensemble import RandomForestClassifier\n",
        "# 学習精度を評価するライブラリ\n",
        "from sklearn.metrics import accuracy_score\n",
        "# 分類結果を出力するライブラリ\n",
        "from sklearn.metrics import classification_report\n",
        "# webから読み込むためのライブラリ\n",
        "from urllib.request import urlretrieve"
      ],
      "execution_count": 1,
      "outputs": []
    },
    {
      "cell_type": "markdown",
      "metadata": {
        "id": "WmzlsHeIzyMI"
      },
      "source": [
        "### データの保存"
      ]
    },
    {
      "cell_type": "code",
      "metadata": {
        "id": "LBsgWBodr7HA",
        "outputId": "b76b0bea-df26-45a1-efae-30ace083b146",
        "colab": {
          "base_uri": "https://localhost:8080/",
          "height": 34
        }
      },
      "source": [
        "# uciのサイトから読み込むためのurl文字列\n",
        "url = \"https://raw.githubusercontent.com/masatokg/square_data/master/data.csv\"\n",
        "savepath = \"square_data.csv\"\n",
        "# データをwebアクセスでコピーして指定したファイル名で保存する\n",
        "urlretrieve(url,savepath)"
      ],
      "execution_count": 2,
      "outputs": [
        {
          "output_type": "execute_result",
          "data": {
            "text/plain": [
              "('square_data.csv', <http.client.HTTPMessage at 0x7f2591a9ef98>)"
            ]
          },
          "metadata": {
            "tags": []
          },
          "execution_count": 2
        }
      ]
    },
    {
      "cell_type": "markdown",
      "metadata": {
        "id": "OYLGJoZh0X2a"
      },
      "source": [
        "### データを読み込み"
      ]
    },
    {
      "cell_type": "code",
      "metadata": {
        "id": "IeYWzjOmz4b-",
        "outputId": "85a1a104-453d-411b-8f99-a9420475ff8b",
        "colab": {
          "base_uri": "https://localhost:8080/",
          "height": 195
        }
      },
      "source": [
        "#squareにデータを代入\n",
        "square = pd.read_csv(savepath, sep=\",\", encoding=\"utf-8\")\n",
        "square.head()"
      ],
      "execution_count": 3,
      "outputs": [
        {
          "output_type": "execute_result",
          "data": {
            "text/html": [
              "<div>\n",
              "<style scoped>\n",
              "    .dataframe tbody tr th:only-of-type {\n",
              "        vertical-align: middle;\n",
              "    }\n",
              "\n",
              "    .dataframe tbody tr th {\n",
              "        vertical-align: top;\n",
              "    }\n",
              "\n",
              "    .dataframe thead th {\n",
              "        text-align: right;\n",
              "    }\n",
              "</style>\n",
              "<table border=\"1\" class=\"dataframe\">\n",
              "  <thead>\n",
              "    <tr style=\"text-align: right;\">\n",
              "      <th></th>\n",
              "      <th>a_length</th>\n",
              "      <th>b_length</th>\n",
              "      <th>c_length</th>\n",
              "      <th>d_length</th>\n",
              "      <th>ab_Parallel</th>\n",
              "      <th>cd_Parallel</th>\n",
              "      <th>ab_right_angle</th>\n",
              "      <th>shape</th>\n",
              "    </tr>\n",
              "  </thead>\n",
              "  <tbody>\n",
              "    <tr>\n",
              "      <th>0</th>\n",
              "      <td>10</td>\n",
              "      <td>10</td>\n",
              "      <td>10</td>\n",
              "      <td>10</td>\n",
              "      <td>1</td>\n",
              "      <td>1</td>\n",
              "      <td>1</td>\n",
              "      <td>square</td>\n",
              "    </tr>\n",
              "    <tr>\n",
              "      <th>1</th>\n",
              "      <td>11</td>\n",
              "      <td>11</td>\n",
              "      <td>11</td>\n",
              "      <td>11</td>\n",
              "      <td>1</td>\n",
              "      <td>1</td>\n",
              "      <td>1</td>\n",
              "      <td>square</td>\n",
              "    </tr>\n",
              "    <tr>\n",
              "      <th>2</th>\n",
              "      <td>12</td>\n",
              "      <td>12</td>\n",
              "      <td>12</td>\n",
              "      <td>12</td>\n",
              "      <td>1</td>\n",
              "      <td>1</td>\n",
              "      <td>1</td>\n",
              "      <td>square</td>\n",
              "    </tr>\n",
              "    <tr>\n",
              "      <th>3</th>\n",
              "      <td>13</td>\n",
              "      <td>13</td>\n",
              "      <td>13</td>\n",
              "      <td>13</td>\n",
              "      <td>1</td>\n",
              "      <td>1</td>\n",
              "      <td>1</td>\n",
              "      <td>square</td>\n",
              "    </tr>\n",
              "    <tr>\n",
              "      <th>4</th>\n",
              "      <td>14</td>\n",
              "      <td>14</td>\n",
              "      <td>14</td>\n",
              "      <td>14</td>\n",
              "      <td>1</td>\n",
              "      <td>1</td>\n",
              "      <td>1</td>\n",
              "      <td>square</td>\n",
              "    </tr>\n",
              "  </tbody>\n",
              "</table>\n",
              "</div>"
            ],
            "text/plain": [
              "   a_length  b_length  c_length  ...  cd_Parallel  ab_right_angle   shape\n",
              "0        10        10        10  ...            1               1  square\n",
              "1        11        11        11  ...            1               1  square\n",
              "2        12        12        12  ...            1               1  square\n",
              "3        13        13        13  ...            1               1  square\n",
              "4        14        14        14  ...            1               1  square\n",
              "\n",
              "[5 rows x 8 columns]"
            ]
          },
          "metadata": {
            "tags": []
          },
          "execution_count": 3
        }
      ]
    },
    {
      "cell_type": "markdown",
      "metadata": {
        "id": "XI84Aarc1h9P"
      },
      "source": [
        "### データを正解データと入力用データに分割する"
      ]
    },
    {
      "cell_type": "code",
      "metadata": {
        "id": "K0zc8WTy0miG",
        "outputId": "d4fee88c-9825-48f2-c775-53b8814edb7d",
        "colab": {
          "base_uri": "https://localhost:8080/",
          "height": 228
        }
      },
      "source": [
        "y = square.loc[:,\"shape\"]\n",
        "print(y)"
      ],
      "execution_count": 4,
      "outputs": [
        {
          "output_type": "stream",
          "text": [
            "0         square\n",
            "1         square\n",
            "2         square\n",
            "3         square\n",
            "4         square\n",
            "         ...    \n",
            "395    trapezoid\n",
            "396    trapezoid\n",
            "397    trapezoid\n",
            "398    trapezoid\n",
            "399    trapezoid\n",
            "Name: shape, Length: 400, dtype: object\n"
          ],
          "name": "stdout"
        }
      ]
    },
    {
      "cell_type": "code",
      "metadata": {
        "id": "GQSdmwZs10Lo",
        "outputId": "8d1b4f33-48c0-4c15-fea9-d9238f4d55ae",
        "colab": {
          "base_uri": "https://localhost:8080/",
          "height": 263
        }
      },
      "source": [
        "x = square.loc[:,[\"a_length\",\"b_length\",\"c_length\",\"d_length\",\"ab_Parallel\",\"cd_Parallel\",\"ab_right_angle\"]]\n",
        "print(x)"
      ],
      "execution_count": 5,
      "outputs": [
        {
          "output_type": "stream",
          "text": [
            "     a_length  b_length  c_length  ...  ab_Parallel  cd_Parallel  ab_right_angle\n",
            "0          10        10        10  ...            1            1               1\n",
            "1          11        11        11  ...            1            1               1\n",
            "2          12        12        12  ...            1            1               1\n",
            "3          13        13        13  ...            1            1               1\n",
            "4          14        14        14  ...            1            1               1\n",
            "..        ...       ...       ...  ...          ...          ...             ...\n",
            "395       100       125       105  ...            1            0               0\n",
            "396       101       126       106  ...            1            0               0\n",
            "397       102       127       107  ...            1            0               0\n",
            "398       103       128       108  ...            1            0               0\n",
            "399       104       129       109  ...            1            0               0\n",
            "\n",
            "[400 rows x 7 columns]\n"
          ],
          "name": "stdout"
        }
      ]
    },
    {
      "cell_type": "markdown",
      "metadata": {
        "id": "BDa386Eg26c4"
      },
      "source": [
        "### 学習用とテスト用にデータを分ける"
      ]
    },
    {
      "cell_type": "code",
      "metadata": {
        "id": "eNsALoAR2fFw"
      },
      "source": [
        "# _trainは学習用、_testはテスト（検証）用とする\n",
        "x_train, x_test, y_train, y_test = train_test_split(x, y, test_size=0.2)"
      ],
      "execution_count": 6,
      "outputs": []
    },
    {
      "cell_type": "markdown",
      "metadata": {
        "id": "5fGfsmeg3Ayp"
      },
      "source": [
        "### 学習データ(_train)で学習させる"
      ]
    },
    {
      "cell_type": "code",
      "metadata": {
        "id": "4d2BG9UB2_e5",
        "outputId": "c225616f-63e9-4d9e-d98b-999885c80533",
        "colab": {
          "base_uri": "https://localhost:8080/",
          "height": 158
        }
      },
      "source": [
        "# ランダムフォレストで学習\n",
        "model = RandomForestClassifier()\n",
        "model.fit(x_train, y_train)"
      ],
      "execution_count": 7,
      "outputs": [
        {
          "output_type": "execute_result",
          "data": {
            "text/plain": [
              "RandomForestClassifier(bootstrap=True, ccp_alpha=0.0, class_weight=None,\n",
              "                       criterion='gini', max_depth=None, max_features='auto',\n",
              "                       max_leaf_nodes=None, max_samples=None,\n",
              "                       min_impurity_decrease=0.0, min_impurity_split=None,\n",
              "                       min_samples_leaf=1, min_samples_split=2,\n",
              "                       min_weight_fraction_leaf=0.0, n_estimators=100,\n",
              "                       n_jobs=None, oob_score=False, random_state=None,\n",
              "                       verbose=0, warm_start=False)"
            ]
          },
          "metadata": {
            "tags": []
          },
          "execution_count": 7
        }
      ]
    },
    {
      "cell_type": "markdown",
      "metadata": {
        "id": "PbOMDMEH3Kp7"
      },
      "source": [
        "### 学習ができているか検証する"
      ]
    },
    {
      "cell_type": "code",
      "metadata": {
        "id": "uYUjiZub3Jnm",
        "outputId": "7218121f-7cde-4b8a-b0e5-099e7ec2748b",
        "colab": {
          "base_uri": "https://localhost:8080/",
          "height": 228
        }
      },
      "source": [
        "# テスト（predict）して結果を評価する\n",
        "y_pred = model.predict(x_test)\n",
        "# テスト結果(y_pred)と、本当の実データ(正解ラベルデータ)を比較して精度を評価\n",
        "print(classification_report(y_test, y_pred))\n",
        "# 正解率\n",
        "print(\"正解率 = \", accuracy_score(y_test, y_pred))"
      ],
      "execution_count": 8,
      "outputs": [
        {
          "output_type": "stream",
          "text": [
            "              precision    recall  f1-score   support\n",
            "\n",
            "   rectangle       0.94      1.00      0.97        15\n",
            "     rhombus       1.00      1.00      1.00        22\n",
            "      square       1.00      0.95      0.98        22\n",
            "   trapezoid       1.00      1.00      1.00        21\n",
            "\n",
            "    accuracy                           0.99        80\n",
            "   macro avg       0.98      0.99      0.99        80\n",
            "weighted avg       0.99      0.99      0.99        80\n",
            "\n",
            "正解率 =  0.9875\n"
          ],
          "name": "stdout"
        }
      ]
    },
    {
      "cell_type": "code",
      "metadata": {
        "id": "Mea8KZYS3Ozb"
      },
      "source": [
        ""
      ],
      "execution_count": 8,
      "outputs": []
    }
  ]
}