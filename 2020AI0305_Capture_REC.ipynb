{
  "nbformat": 4,
  "nbformat_minor": 0,
  "metadata": {
    "colab": {
      "name": "2020AI0305-Capture-REC.ipynb",
      "provenance": [],
      "authorship_tag": "ABX9TyPeHFqqhCKq6/eAN1uAg6iX",
      "include_colab_link": true
    },
    "kernelspec": {
      "name": "python3",
      "display_name": "Python 3"
    }
  },
  "cells": [
    {
      "cell_type": "markdown",
      "metadata": {
        "id": "view-in-github",
        "colab_type": "text"
      },
      "source": [
        "<a href=\"https://colab.research.google.com/github/aso1901103/AI_tech2020/blob/master/2020AI0305_Capture_REC.ipynb\" target=\"_parent\"><img src=\"https://colab.research.google.com/assets/colab-badge.svg\" alt=\"Open In Colab\"/></a>"
      ]
    },
    {
      "cell_type": "markdown",
      "metadata": {
        "id": "XYrraPV4Z3E-"
      },
      "source": [
        "### カメラや動画ファイルからのキャプチャ内容を加工して録画する"
      ]
    },
    {
      "cell_type": "code",
      "metadata": {
        "id": "MMDlM5vdZvoJ"
      },
      "source": [
        "# ライブラリのimport\r\n",
        "import cv2, os\r\n",
        "import urllib.request as req"
      ],
      "execution_count": 1,
      "outputs": []
    },
    {
      "cell_type": "markdown",
      "metadata": {
        "id": "eOLD691laAnV"
      },
      "source": [
        "### 動画ファイルのダウンロード"
      ]
    },
    {
      "cell_type": "code",
      "metadata": {
        "colab": {
          "base_uri": "https://localhost:8080/"
        },
        "id": "JUQiV714Z7it",
        "outputId": "906b3a4e-f470-47a1-9362-c4044215fc6a"
      },
      "source": [
        "url = \"https://github.com/masatokg/sample_photo/raw/master/fish.mp4\"\r\n",
        "save_file = \"fish.mp4\"\r\n",
        "req.urlretrieve(url, save_file)"
      ],
      "execution_count": 2,
      "outputs": [
        {
          "output_type": "execute_result",
          "data": {
            "text/plain": [
              "('fish.mp4', <http.client.HTTPMessage at 0x7f991b4a8208>)"
            ]
          },
          "metadata": {
            "tags": []
          },
          "execution_count": 2
        }
      ]
    },
    {
      "cell_type": "code",
      "metadata": {
        "id": "_CajcFvlaDE_"
      },
      "source": [
        "# 保存ファイル名\r\n",
        "out_file = \"out.mp4\"\r\n",
        "# キャプチャソースを指定してキャプチャインスタンスを取得\r\n",
        "# webカメラの場合：0、動画ファイルの場合：ファイルパス\r\n",
        "cap = cv2.VideoCapture(save_file)\r\n",
        "# 動画フォーマット(mp4ビデオ)を指定するインスタンスを取得\r\n",
        "fourcc = cv2.VideoWriter_fourcc('M', 'P', '4', 'V')\r\n",
        "# フレームレート(fps)を指定\r\n",
        "fps = 30.0"
      ],
      "execution_count": 3,
      "outputs": []
    },
    {
      "cell_type": "markdown",
      "metadata": {
        "id": "6ZUbVXRvaIGy"
      },
      "source": [
        "キャプチャしたフレームの加工処理用関数"
      ]
    },
    {
      "cell_type": "code",
      "metadata": {
        "id": "-Q3sbK8naGq2"
      },
      "source": [
        "# フレーム引数で受け取り、加工して戻り値で返す\r\n",
        "def process_img( frame ):\r\n",
        "  # 加工処理\r\n",
        "  # BGRのうち、BGを0にしてRの光だけにする\r\n",
        "  frame[ :, :, 0 ] = 0 #B\r\n",
        "  frame[ :, :, 1 ] = 0 #G\r\n",
        "\r\n",
        "  return frame"
      ],
      "execution_count": 4,
      "outputs": []
    },
    {
      "cell_type": "markdown",
      "metadata": {
        "id": "Y_Fn1FuaaMGl"
      },
      "source": [
        "### フレームを受け取り、そのフレームサイズでキャプチャ画像を録画し流すためのレコーダーを定義して戻り値で返す関数"
      ]
    },
    {
      "cell_type": "code",
      "metadata": {
        "id": "O_6TTjiiaKRs"
      },
      "source": [
        "def open_recorder( frame ):\r\n",
        "  h = len( frame ) # フレームの高さ(Numpy2次元配列の行数)\r\n",
        "  w = len( frame[0] ) # フレームの幅(Numpy2次元配列の列数)\r\n",
        "  size = (w, h) # フレーム画像サイズをタプル変数で定義\r\n",
        "  # レコーダーのインスタンスを生成\r\n",
        "  recorder = cv2.VideoWriter(out_file, fourcc, fps, size, isColor=True)\r\n",
        "  return recorder"
      ],
      "execution_count": 5,
      "outputs": []
    },
    {
      "cell_type": "markdown",
      "metadata": {
        "id": "xtNbQIVZaY9F"
      },
      "source": [
        "### キャプチャの読込処理を実行"
      ]
    },
    {
      "cell_type": "code",
      "metadata": {
        "colab": {
          "base_uri": "https://localhost:8080/"
        },
        "id": "ElBOOrq1aV3x",
        "outputId": "20efdbff-31ff-4e0a-919b-9a162507b880"
      },
      "source": [
        "# 1フレーム読み込み\r\n",
        "is_ok, frame = cap.read()\r\n",
        "# 成功なら、そのフレームを録画するためのレコーダーを開く\r\n",
        "if is_ok:\r\n",
        "  print(\"1 frame has read.\")\r\n",
        "  # そのフレームを録画するレコーダーを開く自作関数\r\n",
        "  recorder = open_recorder( frame )\r\n",
        "  # 読み込みフレームがなくなるまで無限ループ\r\n",
        "  while True:\r\n",
        "    # 読み込んだフレームを加工する自作関数\r\n",
        "    frame = process_img( frame )\r\n",
        "    # 加工した1フレームをレコーダーに書き込む\r\n",
        "    recorder.write(frame)\r\n",
        "    # 次の1フレームを読み込む\r\n",
        "    is_ok, frame = cap.read()\r\n",
        "    # 読み込むフレームがなかったら、無限ループをbreak\r\n",
        "    if is_ok is not True:\r\n",
        "      break\r\n",
        "else:\r\n",
        "  print(\"there is no  frame.\")"
      ],
      "execution_count": 6,
      "outputs": [
        {
          "output_type": "stream",
          "text": [
            "1 frame has read.\n"
          ],
          "name": "stdout"
        }
      ]
    },
    {
      "cell_type": "markdown",
      "metadata": {
        "id": "GR584dSrah8P"
      },
      "source": [
        "### 後処理とダウンロード"
      ]
    },
    {
      "cell_type": "code",
      "metadata": {
        "colab": {
          "base_uri": "https://localhost:8080/",
          "height": 34
        },
        "id": "2I9_-BOoae5u",
        "outputId": "c3fd9e38-62bc-43fa-ada1-70a1163c3220"
      },
      "source": [
        "# レコーダーの開放\r\n",
        "recorder.release()\r\n",
        "# キャプチャの開放\r\n",
        "cap.release()\r\n",
        "#メッセージ\r\n",
        "print(\"capture and recording end.\")\r\n",
        "# 出力mp4ファイルのダウンロード処理\r\n",
        "from google.colab import files\r\n",
        "files.download(out_file)"
      ],
      "execution_count": 7,
      "outputs": [
        {
          "output_type": "stream",
          "text": [
            "capture and recording end.\n"
          ],
          "name": "stdout"
        },
        {
          "output_type": "display_data",
          "data": {
            "application/javascript": [
              "\n",
              "    async function download(id, filename, size) {\n",
              "      if (!google.colab.kernel.accessAllowed) {\n",
              "        return;\n",
              "      }\n",
              "      const div = document.createElement('div');\n",
              "      const label = document.createElement('label');\n",
              "      label.textContent = `Downloading \"${filename}\": `;\n",
              "      div.appendChild(label);\n",
              "      const progress = document.createElement('progress');\n",
              "      progress.max = size;\n",
              "      div.appendChild(progress);\n",
              "      document.body.appendChild(div);\n",
              "\n",
              "      const buffers = [];\n",
              "      let downloaded = 0;\n",
              "\n",
              "      const channel = await google.colab.kernel.comms.open(id);\n",
              "      // Send a message to notify the kernel that we're ready.\n",
              "      channel.send({})\n",
              "\n",
              "      for await (const message of channel.messages) {\n",
              "        // Send a message to notify the kernel that we're ready.\n",
              "        channel.send({})\n",
              "        if (message.buffers) {\n",
              "          for (const buffer of message.buffers) {\n",
              "            buffers.push(buffer);\n",
              "            downloaded += buffer.byteLength;\n",
              "            progress.value = downloaded;\n",
              "          }\n",
              "        }\n",
              "      }\n",
              "      const blob = new Blob(buffers, {type: 'application/binary'});\n",
              "      const a = document.createElement('a');\n",
              "      a.href = window.URL.createObjectURL(blob);\n",
              "      a.download = filename;\n",
              "      div.appendChild(a);\n",
              "      a.click();\n",
              "      div.remove();\n",
              "    }\n",
              "  "
            ],
            "text/plain": [
              "<IPython.core.display.Javascript object>"
            ]
          },
          "metadata": {
            "tags": []
          }
        },
        {
          "output_type": "display_data",
          "data": {
            "application/javascript": [
              "download(\"download_89cf9884-de3b-4188-8ea1-78a812858630\", \"out.mp4\", 11128507)"
            ],
            "text/plain": [
              "<IPython.core.display.Javascript object>"
            ]
          },
          "metadata": {
            "tags": []
          }
        }
      ]
    },
    {
      "cell_type": "code",
      "metadata": {
        "id": "wiG7xnhyale1"
      },
      "source": [
        ""
      ],
      "execution_count": 7,
      "outputs": []
    }
  ]
}