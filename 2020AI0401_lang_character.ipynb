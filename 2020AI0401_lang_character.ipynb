{
  "nbformat": 4,
  "nbformat_minor": 0,
  "metadata": {
    "colab": {
      "name": "2020AI0401_lang_character.ipynb",
      "provenance": [],
      "authorship_tag": "ABX9TyMUCmy5l2KCAD2yyYsOUZtG",
      "include_colab_link": true
    },
    "kernelspec": {
      "name": "python3",
      "display_name": "Python 3"
    }
  },
  "cells": [
    {
      "cell_type": "markdown",
      "metadata": {
        "id": "view-in-github",
        "colab_type": "text"
      },
      "source": [
        "<a href=\"https://colab.research.google.com/github/aso1901103/AI_tech2020/blob/master/2020AI0401_lang_character.ipynb\" target=\"_parent\"><img src=\"https://colab.research.google.com/assets/colab-badge.svg\" alt=\"Open In Colab\"/></a>"
      ]
    },
    {
      "cell_type": "markdown",
      "metadata": {
        "id": "AwWI_DN2shu_"
      },
      "source": [
        "### 異なる文字を使う言語を分類する\r\n",
        "ライブラリのimport"
      ]
    },
    {
      "cell_type": "code",
      "metadata": {
        "id": "lS9CpUj5se2y"
      },
      "source": [
        "import numpy as np\r\n",
        "from sklearn.naive_bayes import GaussianNB\r\n",
        "from sklearn.metrics import accuracy_score"
      ],
      "execution_count": 1,
      "outputs": []
    },
    {
      "cell_type": "markdown",
      "metadata": {
        "id": "NKoCtSXSslRG"
      },
      "source": [
        "### 文字コードの値をインデックスにした配列を作り、各コード値（コードポイント）別に文章中の出現頻度をカウントする関数を定義"
      ]
    },
    {
      "cell_type": "code",
      "metadata": {
        "id": "Q3MbOzHRsk0x"
      },
      "source": [
        "# Unicode文字列の文字コード値（コードポイント）頻度測定する関数\r\n",
        "def count_codePoint(str):\r\n",
        "  # Unicodeのコードポイントをインデックス位置（アドレス）とする配列を用意\r\n",
        "  counter = np.zeros(65535)\r\n",
        "  # 引数strの文字数だけループ\r\n",
        "  for i in range( len(str) ):\r\n",
        "    # 各文字のコード値を変数に代入\r\n",
        "    code_point = ord(str[i])\r\n",
        "    # 万一Unicodeの範囲外なら、無視する\r\n",
        "    if code_point > 65535:\r\n",
        "      continue\r\n",
        "    # 対応するアドレスの出現回数カウントをインクリメント\r\n",
        "    counter[code_point] += 1\r\n",
        "  # 各要素を文字数で割って正規化（出現率、つまり%に変える）\r\n",
        "  counter = counter/len(str)\r\n",
        "  return counter"
      ],
      "execution_count": 2,
      "outputs": []
    },
    {
      "cell_type": "markdown",
      "metadata": {
        "id": "VtltOI3ossOW"
      },
      "source": [
        "### 学習用データを作成する"
      ]
    },
    {
      "cell_type": "code",
      "metadata": {
        "id": "je46ZnOnsrD8"
      },
      "source": [
        "# 学習用データの準備\r\n",
        "ja_str = \"これは日本語の文章です。\"\r\n",
        "en_str = \"This is English Sentences.\"\r\n",
        "th_str = \"นี่เป็นประโยคภาษาไทย\"\r\n",
        "# それぞれの出現頻度割合を３つの要素として説明変数xを作る\r\n",
        "x_train = [count_codePoint(ja_str), count_codePoint(en_str), count_codePoint(th_str)]\r\n",
        "# 同じ順番で正解となる目的変数（ラベル）を作る\r\n",
        "y_train = ['ja', 'en', 'th']"
      ],
      "execution_count": 3,
      "outputs": []
    },
    {
      "cell_type": "markdown",
      "metadata": {
        "id": "0NbarLrXswAA"
      },
      "source": [
        "### 言語ごとの文字のパターンを学習する"
      ]
    },
    {
      "cell_type": "code",
      "metadata": {
        "colab": {
          "base_uri": "https://localhost:8080/"
        },
        "id": "q8Jt5DVesuul",
        "outputId": "9cfc89df-2ab0-48a4-e160-d3541ee28905"
      },
      "source": [
        "# 今回はガウス分布によるナイーブベイズアルゴリズムで学習モデルを作る\r\n",
        "clf = GaussianNB()\r\n",
        "clf.fit( x_train, y_train )"
      ],
      "execution_count": 4,
      "outputs": [
        {
          "output_type": "execute_result",
          "data": {
            "text/plain": [
              "GaussianNB(priors=None, var_smoothing=1e-09)"
            ]
          },
          "metadata": {
            "tags": []
          },
          "execution_count": 4
        }
      ]
    },
    {
      "cell_type": "markdown",
      "metadata": {
        "id": "0S3JICSSszwX"
      },
      "source": [
        "### テスト検証用データを作成する"
      ]
    },
    {
      "cell_type": "code",
      "metadata": {
        "id": "phuBBZ2isyPM"
      },
      "source": [
        "# テスト検証用データ（評価データ）の作成\r\n",
        "ja_test_str = \"こんにちは\"\r\n",
        "en_test_str = \"Hello\"\r\n",
        "th_test_str = \"สวัสดี\"\r\n",
        "\r\n",
        "# 説明変数にする\r\n",
        "x_test = [count_codePoint(ja_test_str), count_codePoint(en_test_str), count_codePoint(th_test_str)]\r\n",
        "# 同じ順番で正解となる目的変数を作る\r\n",
        "y_test = ['ja', 'en', 'th']"
      ],
      "execution_count": 5,
      "outputs": []
    },
    {
      "cell_type": "markdown",
      "metadata": {
        "id": "P1eVGAW2s4Hv"
      },
      "source": [
        "### テスト検証（推論）し、評価する"
      ]
    },
    {
      "cell_type": "code",
      "metadata": {
        "colab": {
          "base_uri": "https://localhost:8080/"
        },
        "id": "Suw812ils2Ry",
        "outputId": "a691a3e1-c908-45a5-8032-34648ec23ff0"
      },
      "source": [
        "# 推論させる\r\n",
        "y_pred = clf.predict(x_test)\r\n",
        "print(\"1つ目の文章の言語は\",y_pred[0],\"です\")\r\n",
        "print(\"2つ目の文章の言語は\",y_pred[1],\"です\")\r\n",
        "print(\"3つ目の文章の言語は\",y_pred[2],\"です\")\r\n",
        "# 評価する\r\n",
        "print(\"正解率 = \", accuracy_score( y_test, y_pred ))"
      ],
      "execution_count": 6,
      "outputs": [
        {
          "output_type": "stream",
          "text": [
            "1つ目の文章の言語は ja です\n",
            "2つ目の文章の言語は en です\n",
            "3つ目の文章の言語は th です\n",
            "正解率 =  1.0\n"
          ],
          "name": "stdout"
        }
      ]
    },
    {
      "cell_type": "markdown",
      "metadata": {
        "id": "dfGLBObds78I"
      },
      "source": [
        "### 同じ文字を使用する言語を分類\r\n",
        "サンプルデータとして使うWikipedia記事のテキストデータをダウンロードする"
      ]
    },
    {
      "cell_type": "code",
      "metadata": {
        "colab": {
          "base_uri": "https://localhost:8080/"
        },
        "id": "a1sB24rOs6R5",
        "outputId": "ca3155c8-0763-451d-92f0-07ac42a607fc"
      },
      "source": [
        "import urllib.request as req\r\n",
        "# 学習データ用記事\r\n",
        "url = \"https://github.com/masatokg/sample_photo/raw/master/train.zip\"\r\n",
        "save_file = \"train.zip\"\r\n",
        "req.urlretrieve( url, save_file )\r\n",
        "# テスト検証用データ記事\r\n",
        "url = \"https://github.com/masatokg/sample_photo/raw/master/test.zip\"\r\n",
        "save_file = \"test.zip\"\r\n",
        "req.urlretrieve( url, save_file )\r\n",
        "\r\n",
        "# unzip(解凍する)\r\n",
        "!unzip -o -q \"./train.zip\"\r\n",
        "print(\"train.zip解凍\")\r\n",
        "!unzip -o -q \"./test.zip\"\r\n",
        "print(\"test.zip解凍\")"
      ],
      "execution_count": 7,
      "outputs": [
        {
          "output_type": "stream",
          "text": [
            "train.zip解凍\n",
            "test.zip解凍\n"
          ],
          "name": "stdout"
        }
      ]
    },
    {
      "cell_type": "markdown",
      "metadata": {
        "id": "ksiHWhS7tA5P"
      },
      "source": [
        "### ダウンロードしたテキストファイルのうち、学習用を読込み、学習用の説明変数データと目的変数データを作る"
      ]
    },
    {
      "cell_type": "code",
      "metadata": {
        "colab": {
          "base_uri": "https://localhost:8080/"
        },
        "id": "iWC1yhhes_Cm",
        "outputId": "42d81dc0-a401-4b5b-821d-9f0a8086f57f"
      },
      "source": [
        "import glob\r\n",
        "\r\n",
        "# 学習データの準備\r\n",
        "index = 0\r\n",
        "x_train = [] # 学習用説明変数\r\n",
        "y_train = [] # 学習用目的変数（ラベル）\r\n",
        "for file in glob.glob( \"./train/*.txt\" ): # train フォルダのtxt拡張子のファイル分ループ\r\n",
        "  # 言語情報のキーワードになるものを文中から取得し、目的変数（ラベル）として設定\r\n",
        "  y_train.append( file[8:10] )\r\n",
        "  print(\"ファイルパスの一部をラベルにする:\", file, \" = \", file[8:10] )\r\n",
        "  # print( y_train )\r\n",
        "\r\n",
        "  # ファイル内の文字列を連結後、コードポイント頻度を測定し、説明変数として設定\r\n",
        "  file_str = \"\"\r\n",
        "  # ファイルを開いて1行ずつ文字列連結する\r\n",
        "  for line in open( file, 'r' ):\r\n",
        "    file_str = ( file_str + line )\r\n",
        "  x_train.append( count_codePoint( file_str ) )"
      ],
      "execution_count": 8,
      "outputs": [
        {
          "output_type": "stream",
          "text": [
            "ファイルパスの一部をラベルにする: ./train/en_elephant.txt  =  en\n",
            "ファイルパスの一部をラベルにする: ./train/de_dog.txt  =  de\n",
            "ファイルパスの一部をラベルにする: ./train/es_elephant.txt  =  es\n",
            "ファイルパスの一部をラベルにする: ./train/de_elephant.txt  =  de\n",
            "ファイルパスの一部をラベルにする: ./train/en_cat.txt  =  en\n",
            "ファイルパスの一部をラベルにする: ./train/de_cat.txt  =  de\n",
            "ファイルパスの一部をラベルにする: ./train/es_dog.txt  =  es\n",
            "ファイルパスの一部をラベルにする: ./train/en_dog.txt  =  en\n",
            "ファイルパスの一部をラベルにする: ./train/es_cat.txt  =  es\n"
          ],
          "name": "stdout"
        }
      ]
    },
    {
      "cell_type": "markdown",
      "metadata": {
        "id": "wxRZUzMbtIJu"
      },
      "source": [
        "### 作成した学習データをガウス分布のナイーブベイズ分類器（GaussianNB）で学習させる"
      ]
    },
    {
      "cell_type": "code",
      "metadata": {
        "colab": {
          "base_uri": "https://localhost:8080/"
        },
        "id": "uYfzCV5utGLi",
        "outputId": "31b2ccf8-27be-4d78-e2e6-1c2533720e5f"
      },
      "source": [
        "# 学習モデルのインスタンスを生成(ガウシアンNB)\r\n",
        "clf = GaussianNB()\r\n",
        "# 学習させる\r\n",
        "clf.fit( x_train, y_train )"
      ],
      "execution_count": 9,
      "outputs": [
        {
          "output_type": "execute_result",
          "data": {
            "text/plain": [
              "GaussianNB(priors=None, var_smoothing=1e-09)"
            ]
          },
          "metadata": {
            "tags": []
          },
          "execution_count": 9
        }
      ]
    },
    {
      "cell_type": "markdown",
      "metadata": {
        "id": "xUYkpJKttMH2"
      },
      "source": [
        "### ダウンロードしたテキストファイルのうち、テスト検証用を読込、テスト検証用の説明変数、目的変数データを作る"
      ]
    },
    {
      "cell_type": "code",
      "metadata": {
        "colab": {
          "base_uri": "https://localhost:8080/"
        },
        "id": "gYeTs41ttKrX",
        "outputId": "666a395f-aac7-416a-a1bc-559c811ad047"
      },
      "source": [
        "# 評価（テスト検証）用データの作成\r\n",
        "index = 0\r\n",
        "x_test = [] # 説明変数\r\n",
        "y_test = [] # 目的変数\r\n",
        "# testフォルダ内のtxt拡張子のファイルをループする\r\n",
        "for file in glob.glob( \"./test/*.txt\" ):\r\n",
        "  # 言語情報になるキーワードをファイルパスから抜き出し、目的変数（ラベル）として設定\r\n",
        "  y_test.append( file[7:9] )\r\n",
        "  print(\"ファイルパスの一部をラベルにする:\", file, \" = \", file[7:9])\r\n",
        "\r\n",
        "  # ファイル内の文字列を連結する\r\n",
        "  file_str = \"\"\r\n",
        "  # ファイル内の一行ずつを文字列連結\r\n",
        "  for line in open( file, 'r' ):\r\n",
        "    file_str = file_str + line\r\n",
        "  # ファイル内の文字列のUnicode値（Unicodeポイント）の頻度を測定し、説明変数として設定\r\n",
        "  x_test.append( count_codePoint( file_str ) )\r\n",
        "  # print( file_str ) #1ファイル分を表示\r\n",
        "  # print( x_test[0] )  #1ファイル分を表示"
      ],
      "execution_count": 10,
      "outputs": [
        {
          "output_type": "stream",
          "text": [
            "ファイルパスの一部をラベルにする: ./test/de_lion.txt  =  de\n",
            "ファイルパスの一部をラベルにする: ./test/en_lion.txt  =  en\n",
            "ファイルパスの一部をラベルにする: ./test/es_lion.txt  =  es\n"
          ],
          "name": "stdout"
        }
      ]
    },
    {
      "cell_type": "markdown",
      "metadata": {
        "id": "vKs208yCtRS2"
      },
      "source": [
        "### 学習モデルで推論し、評価する"
      ]
    },
    {
      "cell_type": "code",
      "metadata": {
        "colab": {
          "base_uri": "https://localhost:8080/"
        },
        "id": "nNZnQzcutP03",
        "outputId": "6158302e-af10-44f5-9b61-5fb23750d6de"
      },
      "source": [
        "# 推論する\r\n",
        "y_pred = clf.predict( x_test )\r\n",
        "print( y_pred ) # 推論結果を表示\r\n",
        "# ひょうかする　\r\n",
        "print( \"正解率 = \", accuracy_score( y_test, y_pred ) )"
      ],
      "execution_count": 11,
      "outputs": [
        {
          "output_type": "stream",
          "text": [
            "['de' 'en' 'es']\n",
            "正解率 =  1.0\n"
          ],
          "name": "stdout"
        }
      ]
    },
    {
      "cell_type": "code",
      "metadata": {
        "id": "30DaRu8EtTXF"
      },
      "source": [
        ""
      ],
      "execution_count": 11,
      "outputs": []
    }
  ]
}