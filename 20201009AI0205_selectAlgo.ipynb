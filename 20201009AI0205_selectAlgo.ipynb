{
  "nbformat": 4,
  "nbformat_minor": 0,
  "metadata": {
    "colab": {
      "name": "20201009AI0205_selectAlgo.ipynb",
      "provenance": [],
      "authorship_tag": "ABX9TyNq9YQTMXs+hUMYr/40CCfg",
      "include_colab_link": true
    },
    "kernelspec": {
      "name": "python3",
      "display_name": "Python 3"
    }
  },
  "cells": [
    {
      "cell_type": "markdown",
      "metadata": {
        "id": "view-in-github",
        "colab_type": "text"
      },
      "source": [
        "<a href=\"https://colab.research.google.com/github/aso1901103/AI_tech2020/blob/master/20201009AI0205_selectAlgo.ipynb\" target=\"_parent\"><img src=\"https://colab.research.google.com/assets/colab-badge.svg\" alt=\"Open In Colab\"/></a>"
      ]
    },
    {
      "cell_type": "markdown",
      "metadata": {
        "id": "B4l6L4T2AWHL"
      },
      "source": [
        "### sklearnでエラーが出るので、前のバージョンを入れ直す(0.22を消して0.20を入れる)"
      ]
    },
    {
      "cell_type": "code",
      "metadata": {
        "id": "K9se2jVmCrdp"
      },
      "source": [
        "# # 現在のsckit-learnをcolabのVMからアンインストール\n",
        "# !pip uninstall scikit-learn\n",
        "# # 前のバージョンを指定してVMにインストール\n",
        "# !pip install scikit-learn==0.20 --ignore-installed"
      ],
      "execution_count": 1,
      "outputs": []
    },
    {
      "cell_type": "markdown",
      "metadata": {
        "id": "-8NwEbBAAaJS"
      },
      "source": [
        "### ライブラリのインポート\n",
        "\n"
      ]
    },
    {
      "cell_type": "code",
      "metadata": {
        "id": "S8nUFBrCAPw7",
        "outputId": "6841ed55-cece-4342-f317-c032e75eea8d",
        "colab": {
          "base_uri": "https://localhost:8080/"
        }
      },
      "source": [
        "#ライブラリのインポート\n",
        "import pandas as pd\n",
        "#学習用とテスト用でデータを分割するらいぶらり\n",
        "from sklearn.model_selection import train_test_split\n",
        "#正答数を算出するライブラリ\n",
        "from sklearn.metrics import accuracy_score\n",
        "#all_estimators（推定器を全て使えるようになる）\n",
        "from sklearn.utils.testing import all_estimators\n",
        "#警告クラス\n",
        "import warnings"
      ],
      "execution_count": 2,
      "outputs": [
        {
          "output_type": "stream",
          "text": [
            "/usr/local/lib/python3.6/dist-packages/sklearn/utils/deprecation.py:144: FutureWarning: The sklearn.utils.testing module is  deprecated in version 0.22 and will be removed in version 0.24. The corresponding classes / functions should instead be imported from sklearn.utils. Anything that cannot be imported from sklearn.utils is now part of the private API.\n",
            "  warnings.warn(message, FutureWarning)\n"
          ],
          "name": "stderr"
        }
      ]
    },
    {
      "cell_type": "markdown",
      "metadata": {
        "id": "rKow6_VMApcJ"
      },
      "source": [
        "### webからアヤメのデータを読み込む"
      ]
    },
    {
      "cell_type": "code",
      "metadata": {
        "id": "9ee6LvngAhKd",
        "outputId": "a2b7d328-c8c9-4b8e-9815-7f93a7b707ad",
        "colab": {
          "base_uri": "https://localhost:8080/",
          "height": 402
        }
      },
      "source": [
        "# urlリンクから読み込むライブラリ\n",
        "import urllib.request as req\n",
        "#URLの変数を定義する\n",
        "url = \"https://github.com/pandas-dev/pandas/raw/master/pandas/tests/io/data/csv/iris.csv\"\n",
        "#リンクを保存するためのファイルを定義\n",
        "iris_data = \"iris.csv\"\n",
        "req.urlretrieve(url,iris_data)\n",
        "#DLしたファイルの内容を表示\n",
        "#アヤメデータの読み込み\n",
        "iris_data = pd.read_csv(iris_data,encoding=\"utf-8\")\n",
        "iris_data"
      ],
      "execution_count": 3,
      "outputs": [
        {
          "output_type": "execute_result",
          "data": {
            "text/html": [
              "<div>\n",
              "<style scoped>\n",
              "    .dataframe tbody tr th:only-of-type {\n",
              "        vertical-align: middle;\n",
              "    }\n",
              "\n",
              "    .dataframe tbody tr th {\n",
              "        vertical-align: top;\n",
              "    }\n",
              "\n",
              "    .dataframe thead th {\n",
              "        text-align: right;\n",
              "    }\n",
              "</style>\n",
              "<table border=\"1\" class=\"dataframe\">\n",
              "  <thead>\n",
              "    <tr style=\"text-align: right;\">\n",
              "      <th></th>\n",
              "      <th>SepalLength</th>\n",
              "      <th>SepalWidth</th>\n",
              "      <th>PetalLength</th>\n",
              "      <th>PetalWidth</th>\n",
              "      <th>Name</th>\n",
              "    </tr>\n",
              "  </thead>\n",
              "  <tbody>\n",
              "    <tr>\n",
              "      <th>0</th>\n",
              "      <td>5.1</td>\n",
              "      <td>3.5</td>\n",
              "      <td>1.4</td>\n",
              "      <td>0.2</td>\n",
              "      <td>Iris-setosa</td>\n",
              "    </tr>\n",
              "    <tr>\n",
              "      <th>1</th>\n",
              "      <td>4.9</td>\n",
              "      <td>3.0</td>\n",
              "      <td>1.4</td>\n",
              "      <td>0.2</td>\n",
              "      <td>Iris-setosa</td>\n",
              "    </tr>\n",
              "    <tr>\n",
              "      <th>2</th>\n",
              "      <td>4.7</td>\n",
              "      <td>3.2</td>\n",
              "      <td>1.3</td>\n",
              "      <td>0.2</td>\n",
              "      <td>Iris-setosa</td>\n",
              "    </tr>\n",
              "    <tr>\n",
              "      <th>3</th>\n",
              "      <td>4.6</td>\n",
              "      <td>3.1</td>\n",
              "      <td>1.5</td>\n",
              "      <td>0.2</td>\n",
              "      <td>Iris-setosa</td>\n",
              "    </tr>\n",
              "    <tr>\n",
              "      <th>4</th>\n",
              "      <td>5.0</td>\n",
              "      <td>3.6</td>\n",
              "      <td>1.4</td>\n",
              "      <td>0.2</td>\n",
              "      <td>Iris-setosa</td>\n",
              "    </tr>\n",
              "    <tr>\n",
              "      <th>...</th>\n",
              "      <td>...</td>\n",
              "      <td>...</td>\n",
              "      <td>...</td>\n",
              "      <td>...</td>\n",
              "      <td>...</td>\n",
              "    </tr>\n",
              "    <tr>\n",
              "      <th>145</th>\n",
              "      <td>6.7</td>\n",
              "      <td>3.0</td>\n",
              "      <td>5.2</td>\n",
              "      <td>2.3</td>\n",
              "      <td>Iris-virginica</td>\n",
              "    </tr>\n",
              "    <tr>\n",
              "      <th>146</th>\n",
              "      <td>6.3</td>\n",
              "      <td>2.5</td>\n",
              "      <td>5.0</td>\n",
              "      <td>1.9</td>\n",
              "      <td>Iris-virginica</td>\n",
              "    </tr>\n",
              "    <tr>\n",
              "      <th>147</th>\n",
              "      <td>6.5</td>\n",
              "      <td>3.0</td>\n",
              "      <td>5.2</td>\n",
              "      <td>2.0</td>\n",
              "      <td>Iris-virginica</td>\n",
              "    </tr>\n",
              "    <tr>\n",
              "      <th>148</th>\n",
              "      <td>6.2</td>\n",
              "      <td>3.4</td>\n",
              "      <td>5.4</td>\n",
              "      <td>2.3</td>\n",
              "      <td>Iris-virginica</td>\n",
              "    </tr>\n",
              "    <tr>\n",
              "      <th>149</th>\n",
              "      <td>5.9</td>\n",
              "      <td>3.0</td>\n",
              "      <td>5.1</td>\n",
              "      <td>1.8</td>\n",
              "      <td>Iris-virginica</td>\n",
              "    </tr>\n",
              "  </tbody>\n",
              "</table>\n",
              "<p>150 rows × 5 columns</p>\n",
              "</div>"
            ],
            "text/plain": [
              "     SepalLength  SepalWidth  PetalLength  PetalWidth            Name\n",
              "0            5.1         3.5          1.4         0.2     Iris-setosa\n",
              "1            4.9         3.0          1.4         0.2     Iris-setosa\n",
              "2            4.7         3.2          1.3         0.2     Iris-setosa\n",
              "3            4.6         3.1          1.5         0.2     Iris-setosa\n",
              "4            5.0         3.6          1.4         0.2     Iris-setosa\n",
              "..           ...         ...          ...         ...             ...\n",
              "145          6.7         3.0          5.2         2.3  Iris-virginica\n",
              "146          6.3         2.5          5.0         1.9  Iris-virginica\n",
              "147          6.5         3.0          5.2         2.0  Iris-virginica\n",
              "148          6.2         3.4          5.4         2.3  Iris-virginica\n",
              "149          5.9         3.0          5.1         1.8  Iris-virginica\n",
              "\n",
              "[150 rows x 5 columns]"
            ]
          },
          "metadata": {
            "tags": []
          },
          "execution_count": 3
        }
      ]
    },
    {
      "cell_type": "markdown",
      "metadata": {
        "id": "OEluc6yQAtcg"
      },
      "source": [
        "### 取得したデータの分割"
      ]
    },
    {
      "cell_type": "code",
      "metadata": {
        "id": "LvsjCNgyAswa"
      },
      "source": [
        "#ラベルと入力データに分離\n",
        "y = iris_data.loc[:,\"Name\"];\n",
        "x = iris_data.loc[:,[\"SepalLength\",\"SepalWidth\",\"PetalLength\",\"PetalWidth\"]]\n",
        "#学習用とテスト用に分離\n",
        "x_train,x_test,y_train,y_test = train_test_split(x,y,test_size = 0.2,train_size = 0.8, shuffle = True)"
      ],
      "execution_count": 4,
      "outputs": []
    },
    {
      "cell_type": "markdown",
      "metadata": {
        "id": "Ez1ItVZJA1Io"
      },
      "source": [
        "### all_estimatrosを使い学習する"
      ]
    },
    {
      "cell_type": "code",
      "metadata": {
        "id": "q3Mw2ReHA0nA",
        "outputId": "d2a4328d-21b3-4473-89b3-3419be9ccb44",
        "colab": {
          "base_uri": "https://localhost:8080/"
        }
      },
      "source": [
        "#warningを無視する\n",
        "warnings.filterwarnings('ignore')\n",
        "#classifierのアルゴリズム全てを取得\n",
        "allAlgrithms = all_estimators(type_filter=\"classifier\")\n",
        "\n",
        "for(name, algorithm) in allAlgrithms:\n",
        "  #pythonでのtry-catch(try-except)\n",
        "  try:\n",
        "    #アルゴリズムのオブジェクトを作成\n",
        "    clf = algorithm()\n",
        "\n",
        "    #学習して評価する\n",
        "    clf.fit(x_train,y_train)\n",
        "    y_pred = clf.predict(x_test)\n",
        "    print(name,\"の正解率 = \",accuracy_score(y_test,y_pred))\n",
        "  #pythonのcacth(except)\n",
        "  except Exception as e:\n",
        "    print(\"エラーです。\")\n",
        "    print(e)\n",
        "  else:\n",
        "    #print(\"ERROR無し\")\n",
        "    pass"
      ],
      "execution_count": 5,
      "outputs": [
        {
          "output_type": "stream",
          "text": [
            "AdaBoostClassifier の正解率 =  0.8\n",
            "BaggingClassifier の正解率 =  0.8333333333333334\n",
            "BernoulliNB の正解率 =  0.16666666666666666\n",
            "CalibratedClassifierCV の正解率 =  0.7333333333333333\n",
            "CategoricalNB の正解率 =  0.9666666666666667\n",
            "エラーです。\n",
            "could not convert string to float: 'Iris-setosa'\n",
            "エラーです。\n",
            "__init__() missing 1 required positional argument: 'base_estimator'\n",
            "ComplementNB の正解率 =  0.5333333333333333\n",
            "DecisionTreeClassifier の正解率 =  0.8333333333333334\n",
            "DummyClassifier の正解率 =  0.2\n",
            "ExtraTreeClassifier の正解率 =  0.8333333333333334\n",
            "ExtraTreesClassifier の正解率 =  0.9\n",
            "GaussianNB の正解率 =  0.9\n",
            "GaussianProcessClassifier の正解率 =  0.9333333333333333\n",
            "GradientBoostingClassifier の正解率 =  0.8333333333333334\n",
            "HistGradientBoostingClassifier の正解率 =  0.8666666666666667\n",
            "KNeighborsClassifier の正解率 =  0.9666666666666667\n",
            "LabelPropagation の正解率 =  0.9333333333333333\n",
            "LabelSpreading の正解率 =  0.9333333333333333\n",
            "LinearDiscriminantAnalysis の正解率 =  0.8666666666666667\n",
            "LinearSVC の正解率 =  0.8333333333333334\n",
            "LogisticRegression の正解率 =  0.9333333333333333\n",
            "LogisticRegressionCV の正解率 =  0.8666666666666667\n",
            "MLPClassifier の正解率 =  0.9666666666666667\n",
            "エラーです。\n",
            "__init__() missing 1 required positional argument: 'estimator'\n",
            "MultinomialNB の正解率 =  0.8\n",
            "NearestCentroid の正解率 =  0.9\n",
            "NuSVC の正解率 =  0.9333333333333333\n",
            "エラーです。\n",
            "__init__() missing 1 required positional argument: 'estimator'\n",
            "エラーです。\n",
            "__init__() missing 1 required positional argument: 'estimator'\n",
            "エラーです。\n",
            "__init__() missing 1 required positional argument: 'estimator'\n",
            "PassiveAggressiveClassifier の正解率 =  0.9333333333333333\n",
            "Perceptron の正解率 =  0.8666666666666667\n",
            "QuadraticDiscriminantAnalysis の正解率 =  0.9666666666666667\n",
            "RadiusNeighborsClassifier の正解率 =  0.9333333333333333\n",
            "RandomForestClassifier の正解率 =  0.8666666666666667\n",
            "RidgeClassifier の正解率 =  0.7\n",
            "RidgeClassifierCV の正解率 =  0.7\n",
            "SGDClassifier の正解率 =  0.7333333333333333\n",
            "SVC の正解率 =  0.9333333333333333\n",
            "エラーです。\n",
            "__init__() missing 1 required positional argument: 'estimators'\n",
            "エラーです。\n",
            "__init__() missing 1 required positional argument: 'estimators'\n"
          ],
          "name": "stdout"
        }
      ]
    },
    {
      "cell_type": "markdown",
      "metadata": {
        "id": "TAYql2ceA__A"
      },
      "source": [
        "### クロスバリデーションを行うためのライブラリをインポート"
      ]
    },
    {
      "cell_type": "code",
      "metadata": {
        "id": "8-Hf0AeEA_ZA"
      },
      "source": [
        "# クロスバリデーション関連のライブラリをインポート\n",
        "# K分割クロスバリデーション（交差検証）のためのライブラリ\n",
        "from sklearn.model_selection import KFold\n",
        "# クロスバリデーションスコアを取得する為のオブジェクト\n",
        "from sklearn.model_selection import cross_val_score\n"
      ],
      "execution_count": 6,
      "outputs": []
    },
    {
      "cell_type": "markdown",
      "metadata": {
        "id": "nev1FlDjBId5"
      },
      "source": [
        "### クロスバリデーションを行う(closs_val_score)"
      ]
    },
    {
      "cell_type": "code",
      "metadata": {
        "id": "8fPETYwXBH7E",
        "outputId": "17548aa2-e3f1-467a-9008-2616a081d589",
        "colab": {
          "base_uri": "https://localhost:8080/"
        }
      },
      "source": [
        "# K分割交差検証のインスタンスを生成\n",
        "kfold_cv = KFold(n_splits = 5, shuffle = True)\n",
        "# 生成したall_estimatorsのインスタンスをループさせてクロスバリデーション\n",
        "for(name, algorithm) in allAlgrithms:\n",
        "  try:\n",
        "    #各アルゴリズムのインスタンス\n",
        "    clf = algorithm()\n",
        "    #score属性のある学習モデルに絞る\n",
        "    if hasattr(clf,\"score\"):\n",
        "      #クロスバリデーションのスコアを取得\n",
        "      scores = cross_val_score(clf,x,y,cv = kfold_cv)\n",
        "      # k = n_splits = 5回分のクロスバリデーションスコアを表示\n",
        "      print(name,\"の正解率　＝　\")\n",
        "      print(scores)\n",
        "  except Exception as e:\n",
        "    #None\n",
        "    pass\n",
        "    print(e.args)\n"
      ],
      "execution_count": 7,
      "outputs": [
        {
          "output_type": "stream",
          "text": [
            "AdaBoostClassifier の正解率　＝　\n",
            "[0.86666667 1.         0.9        0.93333333 0.96666667]\n",
            "BaggingClassifier の正解率　＝　\n",
            "[0.9        0.96666667 0.93333333 0.96666667 0.96666667]\n",
            "BernoulliNB の正解率　＝　\n",
            "[0.3        0.26666667 0.26666667 0.23333333 0.3       ]\n",
            "CalibratedClassifierCV の正解率　＝　\n",
            "[0.96666667 0.86666667 0.96666667 0.86666667 0.83333333]\n",
            "CategoricalNB の正解率　＝　\n",
            "[0.93333333 0.96666667 0.93333333 0.9        0.93333333]\n",
            "CheckingClassifier の正解率　＝　\n",
            "[nan nan nan nan nan]\n",
            "(\"__init__() missing 1 required positional argument: 'base_estimator'\",)\n",
            "ComplementNB の正解率　＝　\n",
            "[0.5        0.63333333 0.76666667 0.73333333 0.7       ]\n",
            "DecisionTreeClassifier の正解率　＝　\n",
            "[0.96666667 0.93333333 1.         0.96666667 0.9       ]\n",
            "DummyClassifier の正解率　＝　\n",
            "[0.4        0.33333333 0.43333333 0.33333333 0.36666667]\n",
            "ExtraTreeClassifier の正解率　＝　\n",
            "[0.86666667 0.96666667 0.96666667 0.96666667 0.96666667]\n",
            "ExtraTreesClassifier の正解率　＝　\n",
            "[0.93333333 1.         0.83333333 0.96666667 0.93333333]\n",
            "GaussianNB の正解率　＝　\n",
            "[1.         0.9        0.96666667 0.96666667 0.93333333]\n",
            "GaussianProcessClassifier の正解率　＝　\n",
            "[1.         0.86666667 0.96666667 0.96666667 1.        ]\n",
            "GradientBoostingClassifier の正解率　＝　\n",
            "[0.93333333 0.96666667 0.93333333 0.96666667 0.96666667]\n",
            "HistGradientBoostingClassifier の正解率　＝　\n",
            "[0.93333333 0.9        0.93333333 0.93333333 0.96666667]\n",
            "KNeighborsClassifier の正解率　＝　\n",
            "[0.93333333 1.         0.96666667 0.93333333 0.93333333]\n",
            "LabelPropagation の正解率　＝　\n",
            "[0.96666667 0.96666667 0.96666667 0.96666667 0.9       ]\n",
            "LabelSpreading の正解率　＝　\n",
            "[0.93333333 0.96666667 0.96666667 0.96666667 0.96666667]\n",
            "LinearDiscriminantAnalysis の正解率　＝　\n",
            "[0.96666667 1.         0.96666667 0.96666667 1.        ]\n",
            "LinearSVC の正解率　＝　\n",
            "[0.96666667 1.         0.93333333 0.93333333 0.93333333]\n",
            "LogisticRegression の正解率　＝　\n",
            "[0.93333333 1.         1.         0.93333333 0.93333333]\n",
            "LogisticRegressionCV の正解率　＝　\n",
            "[0.96666667 0.9        0.96666667 0.9        1.        ]\n",
            "MLPClassifier の正解率　＝　\n",
            "[1.         0.96666667 1.         0.96666667 0.96666667]\n",
            "(\"__init__() missing 1 required positional argument: 'estimator'\",)\n",
            "MultinomialNB の正解率　＝　\n",
            "[0.93333333 0.93333333 0.63333333 0.7        0.8       ]\n",
            "NearestCentroid の正解率　＝　\n",
            "[0.96666667 0.96666667 0.96666667 0.73333333 0.86666667]\n",
            "NuSVC の正解率　＝　\n",
            "[1.         0.96666667 0.96666667 0.96666667 0.96666667]\n",
            "(\"__init__() missing 1 required positional argument: 'estimator'\",)\n",
            "(\"__init__() missing 1 required positional argument: 'estimator'\",)\n",
            "(\"__init__() missing 1 required positional argument: 'estimator'\",)\n",
            "PassiveAggressiveClassifier の正解率　＝　\n",
            "[0.73333333 0.76666667 0.73333333 0.76666667 0.86666667]\n",
            "Perceptron の正解率　＝　\n",
            "[0.66666667 0.46666667 0.93333333 0.7        0.96666667]\n",
            "QuadraticDiscriminantAnalysis の正解率　＝　\n",
            "[1.         1.         0.9        0.96666667 1.        ]\n",
            "RadiusNeighborsClassifier の正解率　＝　\n",
            "[1.         0.96666667 0.96666667 0.9        1.        ]\n",
            "RandomForestClassifier の正解率　＝　\n",
            "[0.96666667 1.         0.96666667 0.96666667 0.93333333]\n",
            "RidgeClassifier の正解率　＝　\n",
            "[0.8        0.8        0.83333333 0.76666667 0.86666667]\n",
            "RidgeClassifierCV の正解率　＝　\n",
            "[0.76666667 0.86666667 0.73333333 0.93333333 0.83333333]\n",
            "SGDClassifier の正解率　＝　\n",
            "[0.86666667 0.93333333 0.73333333 0.5        0.93333333]\n",
            "SVC の正解率　＝　\n",
            "[0.93333333 0.96666667 0.96666667 0.96666667 0.96666667]\n",
            "(\"__init__() missing 1 required positional argument: 'estimators'\",)\n",
            "(\"__init__() missing 1 required positional argument: 'estimators'\",)\n"
          ],
          "name": "stdout"
        }
      ]
    },
    {
      "cell_type": "markdown",
      "metadata": {
        "id": "Y2LxfTDiBkOI"
      },
      "source": [
        "### クロスバリデーションを行う(cross_validate)"
      ]
    },
    {
      "cell_type": "code",
      "metadata": {
        "id": "i9fMCSdnB-tA"
      },
      "source": [
        "# ライブラリのインポート\n",
        "from sklearn.model_selection import cross_validate"
      ],
      "execution_count": 8,
      "outputs": []
    },
    {
      "cell_type": "code",
      "metadata": {
        "id": "HxJEctjJBVCQ",
        "outputId": "857ffd88-f9e4-47ad-ad51-3f537ba3c94f",
        "colab": {
          "base_uri": "https://localhost:8080/"
        }
      },
      "source": [
        "# K分割交差検証のインスタンスを生成\n",
        "kfold_cv = KFold(n_splits = 5, shuffle = True)\n",
        "# 生成したall_estimatorsのインスタンスをループさせてクロスバリデーション\n",
        "for(name, algorithm) in allAlgrithms:\n",
        "  try:\n",
        "    #各アルゴリズムのインスタンス\n",
        "    clf = algorithm()\n",
        "    #score属性のアル学習モデルに絞る\n",
        "    if hasattr(clf,\"score\"):\n",
        "      #クロスバリデーションのスコアを取得\n",
        "      scores = cross_validate(clf,x,y,cv = kfold_cv)\n",
        "      # k = n_splits = 5回分のクロスバリデーションスコアを表示\n",
        "      print(name,\"の正解率　＝　\")\n",
        "      print(scores)\n",
        "  except Exception as e:\n",
        "    #None\n",
        "    pass\n",
        "    print(e.args)"
      ],
      "execution_count": 9,
      "outputs": [
        {
          "output_type": "stream",
          "text": [
            "AdaBoostClassifier の正解率　＝　\n",
            "{'fit_time': array([0.07338905, 0.0673697 , 0.06737971, 0.06638646, 0.07021976]), 'score_time': array([0.0069952 , 0.00749516, 0.00709486, 0.00681281, 0.008219  ]), 'test_score': array([0.96666667, 0.93333333, 0.93333333, 0.96666667, 0.9       ])}\n",
            "BaggingClassifier の正解率　＝　\n",
            "{'fit_time': array([0.01578569, 0.01401639, 0.01432538, 0.01396799, 0.01438022]), 'score_time': array([0.00214624, 0.00211716, 0.00208831, 0.00216317, 0.00218582]), 'test_score': array([0.93333333, 0.86666667, 0.93333333, 1.        , 0.96666667])}\n",
            "BernoulliNB の正解率　＝　\n",
            "{'fit_time': array([0.00337601, 0.00197029, 0.00187922, 0.00188494, 0.00188327]), 'score_time': array([0.00106359, 0.00108767, 0.00096655, 0.00095844, 0.00097132]), 'test_score': array([0.23333333, 0.23333333, 0.33333333, 0.26666667, 0.33333333])}\n",
            "CalibratedClassifierCV の正解率　＝　\n",
            "{'fit_time': array([0.0594151 , 0.06091261, 0.06114984, 0.05913329, 0.058676  ]), 'score_time': array([0.00345063, 0.00180173, 0.00189543, 0.00190234, 0.00187516]), 'test_score': array([0.93333333, 0.93333333, 0.8       , 0.96666667, 0.9       ])}\n",
            "CategoricalNB の正解率　＝　\n",
            "{'fit_time': array([0.00407386, 0.00258541, 0.0023663 , 0.00236964, 0.0023551 ]), 'score_time': array([0.00099635, 0.00092721, 0.00089049, 0.00088668, 0.00089335]), 'test_score': array([0.9       , 0.9       , 0.9       , 0.96666667, 0.96666667])}\n",
            "CheckingClassifier の正解率　＝　\n",
            "{'fit_time': array([0.000772  , 0.00076509, 0.00073028, 0.00079083, 0.00082231]), 'score_time': array([0., 0., 0., 0., 0.]), 'test_score': array([nan, nan, nan, nan, nan])}\n",
            "(\"__init__() missing 1 required positional argument: 'base_estimator'\",)\n",
            "ComplementNB の正解率　＝　\n",
            "{'fit_time': array([0.00421476, 0.00195336, 0.00258446, 0.00184536, 0.00237131]), 'score_time': array([0.00152779, 0.00107455, 0.00089693, 0.0008955 , 0.00089931]), 'test_score': array([0.6       , 0.73333333, 0.56666667, 0.76666667, 0.66666667])}\n",
            "DecisionTreeClassifier の正解率　＝　\n",
            "{'fit_time': array([0.00200915, 0.00164151, 0.0013957 , 0.00138426, 0.00141788]), 'score_time': array([0.00090814, 0.00081658, 0.00081372, 0.0007894 , 0.00082731]), 'test_score': array([0.96666667, 1.        , 0.9       , 0.96666667, 0.96666667])}\n",
            "DummyClassifier の正解率　＝　\n",
            "{'fit_time': array([0.00127697, 0.00103569, 0.00101042, 0.0010159 , 0.00099969]), 'score_time': array([0.00065112, 0.00136709, 0.00058413, 0.00058937, 0.00059581]), 'test_score': array([0.2       , 0.46666667, 0.4       , 0.36666667, 0.33333333])}\n",
            "ExtraTreeClassifier の正解率　＝　\n",
            "{'fit_time': array([0.00233126, 0.00138283, 0.00134444, 0.00158334, 0.00136876]), 'score_time': array([0.00084758, 0.00081992, 0.00079632, 0.00080609, 0.00079918]), 'test_score': array([0.93333333, 0.9       , 1.        , 0.96666667, 0.9       ])}\n",
            "ExtraTreesClassifier の正解率　＝　\n",
            "{'fit_time': array([0.09559298, 0.0908668 , 0.09002566, 0.08875132, 0.09510565]), 'score_time': array([0.00839949, 0.00892591, 0.00923157, 0.00832725, 0.00825858]), 'test_score': array([0.93333333, 1.        , 0.96666667, 0.96666667, 0.93333333])}\n",
            "GaussianNB の正解率　＝　\n",
            "{'fit_time': array([0.00245166, 0.00217175, 0.0021379 , 0.0021255 , 0.00211716]), 'score_time': array([0.00148416, 0.0012064 , 0.00131869, 0.00113845, 0.0011363 ]), 'test_score': array([0.93333333, 0.93333333, 1.        , 0.96666667, 0.96666667])}\n",
            "GaussianProcessClassifier の正解率　＝　\n",
            "{'fit_time': array([0.0323174 , 0.0314033 , 0.03203893, 0.0310297 , 0.03087473]), 'score_time': array([0.00519347, 0.00524926, 0.00520658, 0.00532222, 0.00952721]), 'test_score': array([1.        , 0.9       , 0.96666667, 0.96666667, 0.96666667])}\n",
            "GradientBoostingClassifier の正解率　＝　\n",
            "{'fit_time': array([0.22773433, 0.17824483, 0.16548657, 0.17415309, 0.15194559]), 'score_time': array([0.00156975, 0.00185537, 0.00152707, 0.00170159, 0.00157475]), 'test_score': array([0.96666667, 1.        , 0.96666667, 0.93333333, 0.9       ])}\n",
            "HistGradientBoostingClassifier の正解率　＝　\n",
            "{'fit_time': array([0.1211524 , 0.13066363, 0.11839485, 0.12507725, 0.12403584]), 'score_time': array([0.01080561, 0.00553131, 0.00579572, 0.00553656, 0.00557876]), 'test_score': array([0.96666667, 0.93333333, 0.93333333, 0.93333333, 0.9       ])}\n",
            "KNeighborsClassifier の正解率　＝　\n",
            "{'fit_time': array([0.00189042, 0.00167394, 0.00165796, 0.00159454, 0.00169802]), 'score_time': array([0.00274086, 0.00255775, 0.00250769, 0.00287414, 0.00254083]), 'test_score': array([0.96666667, 0.93333333, 0.96666667, 0.96666667, 1.        ])}\n",
            "LabelPropagation の正解率　＝　\n",
            "{'fit_time': array([0.00276375, 0.0062387 , 0.00658011, 0.00668168, 0.00670743]), 'score_time': array([0.00182796, 0.0019753 , 0.00183702, 0.00182962, 0.00193453]), 'test_score': array([0.96666667, 1.        , 0.96666667, 0.9       , 1.        ])}\n",
            "LabelSpreading の正解率　＝　\n",
            "{'fit_time': array([0.00568414, 0.00668287, 0.00337172, 0.00569439, 0.00808001]), 'score_time': array([0.00189757, 0.00192404, 0.00153279, 0.0016067 , 0.001652  ]), 'test_score': array([0.93333333, 0.96666667, 0.96666667, 0.93333333, 0.93333333])}\n",
            "LinearDiscriminantAnalysis の正解率　＝　\n",
            "{'fit_time': array([0.00248885, 0.00319552, 0.00232315, 0.00280547, 0.00230312]), 'score_time': array([0.00109696, 0.00111413, 0.00105214, 0.00120234, 0.00102115]), 'test_score': array([1.        , 1.        , 0.93333333, 1.        , 0.96666667])}\n",
            "LinearSVC の正解率　＝　\n",
            "{'fit_time': array([0.01111579, 0.01064038, 0.02517939, 0.01484418, 0.01470995]), 'score_time': array([0.00145268, 0.00627899, 0.01492453, 0.00124002, 0.00126529]), 'test_score': array([0.96666667, 1.        , 0.96666667, 0.86666667, 0.96666667])}\n",
            "LogisticRegression の正解率　＝　\n",
            "{'fit_time': array([0.02492094, 0.02969217, 0.02905011, 0.030123  , 0.03076935]), 'score_time': array([0.00135732, 0.00124979, 0.00124192, 0.00127006, 0.00125885]), 'test_score': array([0.86666667, 0.96666667, 0.96666667, 1.        , 0.96666667])}\n",
            "LogisticRegressionCV の正解率　＝　\n",
            "{'fit_time': array([0.96585727, 0.80183959, 0.73915935, 0.85042071, 0.77602625]), 'score_time': array([0.00132298, 0.00126505, 0.0011282 , 0.00123501, 0.00126171]), 'test_score': array([0.96666667, 0.93333333, 1.        , 0.96666667, 0.96666667])}\n",
            "MLPClassifier の正解率　＝　\n",
            "{'fit_time': array([0.1344564 , 0.1320219 , 0.12924695, 0.13321114, 0.13256574]), 'score_time': array([0.00143123, 0.00136662, 0.00137234, 0.00136709, 0.00137758]), 'test_score': array([0.93333333, 0.96666667, 0.93333333, 1.        , 1.        ])}\n",
            "(\"__init__() missing 1 required positional argument: 'estimator'\",)\n",
            "MultinomialNB の正解率　＝　\n",
            "{'fit_time': array([0.00270104, 0.00267601, 0.00244427, 0.00263309, 0.00242305]), 'score_time': array([0.00140142, 0.00141215, 0.00143003, 0.00126553, 0.00124741]), 'test_score': array([1.        , 0.83333333, 0.9       , 0.96666667, 0.9       ])}\n",
            "NearestCentroid の正解率　＝　\n",
            "{'fit_time': array([0.0019567 , 0.00169301, 0.0016427 , 0.00166655, 0.00166821]), 'score_time': array([0.00139904, 0.001158  , 0.0011971 , 0.00114322, 0.00115561]), 'test_score': array([0.9       , 0.93333333, 0.93333333, 0.96666667, 0.93333333])}\n",
            "NuSVC の正解率　＝　\n",
            "{'fit_time': array([0.00280738, 0.0020833 , 0.00202727, 0.00202799, 0.00202417]), 'score_time': array([0.00095749, 0.00095963, 0.00093794, 0.00091791, 0.00093198]), 'test_score': array([0.9       , 1.        , 0.93333333, 0.96666667, 0.93333333])}\n",
            "(\"__init__() missing 1 required positional argument: 'estimator'\",)\n",
            "(\"__init__() missing 1 required positional argument: 'estimator'\",)\n",
            "(\"__init__() missing 1 required positional argument: 'estimator'\",)\n",
            "PassiveAggressiveClassifier の正解率　＝　\n",
            "{'fit_time': array([0.0048697 , 0.00412965, 0.00342727, 0.00312996, 0.0031271 ]), 'score_time': array([0.0012188 , 0.00084376, 0.00085735, 0.00087142, 0.00085258]), 'test_score': array([0.7       , 0.83333333, 0.96666667, 0.93333333, 0.63333333])}\n",
            "Perceptron の正解率　＝　\n",
            "{'fit_time': array([0.00421882, 0.00306845, 0.00312901, 0.00318909, 0.00323582]), 'score_time': array([0.00085974, 0.00085497, 0.00084591, 0.00086355, 0.00083828]), 'test_score': array([0.9       , 0.96666667, 0.73333333, 0.83333333, 0.86666667])}\n",
            "QuadraticDiscriminantAnalysis の正解率　＝　\n",
            "{'fit_time': array([0.00278854, 0.00161529, 0.00162506, 0.00161266, 0.00178719]), 'score_time': array([0.0010643 , 0.00102377, 0.00100946, 0.00106263, 0.00103736]), 'test_score': array([1.        , 0.96666667, 0.96666667, 0.96666667, 0.96666667])}\n",
            "RadiusNeighborsClassifier の正解率　＝　\n",
            "{'fit_time': array([0.00243282, 0.0014596 , 0.00144005, 0.00144696, 0.00144649]), 'score_time': array([0.00181961, 0.00156474, 0.0015707 , 0.00156069, 0.00152183]), 'test_score': array([1.        , 0.96666667, 0.9       , 0.96666667, 0.93333333])}\n",
            "RandomForestClassifier の正解率　＝　\n",
            "{'fit_time': array([0.12976289, 0.12684155, 0.12227058, 0.12144423, 0.12362957]), 'score_time': array([0.00832129, 0.00819755, 0.00816369, 0.0084033 , 0.00818062]), 'test_score': array([0.93333333, 0.93333333, 0.76666667, 0.93333333, 0.96666667])}\n",
            "RidgeClassifier の正解率　＝　\n",
            "{'fit_time': array([0.00443101, 0.00307775, 0.00277734, 0.00272036, 0.00270963]), 'score_time': array([0.00094771, 0.00089359, 0.00084853, 0.00086379, 0.00087142]), 'test_score': array([0.9       , 0.86666667, 0.7       , 0.73333333, 0.9       ])}\n",
            "RidgeClassifierCV の正解率　＝　\n",
            "{'fit_time': array([0.00511026, 0.00300241, 0.00299287, 0.00299191, 0.00295258]), 'score_time': array([0.00092459, 0.00090814, 0.00089717, 0.00089955, 0.00092721]), 'test_score': array([0.7       , 0.83333333, 0.86666667, 0.8       , 0.93333333])}\n",
            "SGDClassifier の正解率　＝　\n",
            "{'fit_time': array([0.0051415 , 0.00318909, 0.00326324, 0.00318551, 0.00317907]), 'score_time': array([0.00094962, 0.00089097, 0.00089693, 0.00087261, 0.00089622]), 'test_score': array([0.8       , 0.93333333, 1.        , 0.76666667, 0.7       ])}\n",
            "SVC の正解率　＝　\n",
            "{'fit_time': array([0.00266457, 0.00172162, 0.00169063, 0.00172234, 0.00168443]), 'score_time': array([0.00098038, 0.00091338, 0.00090861, 0.00091219, 0.00088358]), 'test_score': array([0.93333333, 1.        , 0.96666667, 0.9       , 1.        ])}\n",
            "(\"__init__() missing 1 required positional argument: 'estimators'\",)\n",
            "(\"__init__() missing 1 required positional argument: 'estimators'\",)\n"
          ],
          "name": "stdout"
        }
      ]
    },
    {
      "cell_type": "markdown",
      "metadata": {
        "id": "s7Hie94CCGPx"
      },
      "source": [
        "### グリッドサーチで最適なパラメータを探索する\n",
        "ライブラリをインポート\n",
        "\n"
      ]
    },
    {
      "cell_type": "code",
      "metadata": {
        "id": "rh29fNpLB3MC"
      },
      "source": [
        "#グリッドサーチのオブジェクトクラスをインポート\n",
        "from sklearn.model_selection import GridSearchCV\n",
        "from sklearn.svm import SVC"
      ],
      "execution_count": 10,
      "outputs": []
    },
    {
      "cell_type": "markdown",
      "metadata": {
        "id": "rfqlGxrlCMyh"
      },
      "source": [
        "### グリッドサーチを実行してパラメータを取得\n",
        "\n"
      ]
    },
    {
      "cell_type": "code",
      "metadata": {
        "id": "DmrPCunvCMTN",
        "outputId": "26723923-b6a9-495d-fac1-6a00dd172c52",
        "colab": {
          "base_uri": "https://localhost:8080/"
        }
      },
      "source": [
        "# グリッドサーチで試すパラメータのパターン指定を定義する\n",
        "parameters = [\n",
        "              # 3つのパラメータ、3パターン\n",
        "              {\"C\":[1,10,100,1000],\"kernel\":[\"linear\"]},\n",
        "              {\"C\":[1,10,100,1000],\"kernel\":[\"rbf\"],\"gamma\":[0.001,0.0001]},\n",
        "              {\"C\":[1,10,100,1000],\"kernel\":[\"sigmoid\"],\"gamma\":[0.001,0.0001]}\n",
        "]\n",
        "\n",
        "#normal learn\n",
        "clf = SVC()\n",
        "clf.fit(x_train,y_train)\n",
        "y_pred = clf.predict(x_test)\n",
        "print(\"普通の学習の正解率　＝　\",accuracy_score(y_test,y_pred))\n",
        "\n",
        "# run grid search \n",
        "# make of Ksplit cross validate instance\n",
        "kfold_cv = KFold(n_splits=5,shuffle=True)\n",
        "\n",
        "#run k split cross validate in grid search\n",
        "clf_grid = GridSearchCV(SVC(),parameters,cv = kfold_cv)\n",
        "clf_grid.fit(x_train,y_train)\n",
        "\n",
        "#Already learned model set last parametor,and print\n",
        "print(\"最適なパラメータ　=　\",clf_grid.best_estimator_)\n",
        "\n",
        "#model already set best parametor to evolve\n",
        "y_pred = clf_grid.predict(x_test)\n",
        "print (\"グリッドサーチの正解率 = \",accuracy_score(y_test,y_pred))\n"
      ],
      "execution_count": 11,
      "outputs": [
        {
          "output_type": "stream",
          "text": [
            "普通の学習の正解率　＝　 0.9333333333333333\n",
            "最適なパラメータ　=　 SVC(C=1, break_ties=False, cache_size=200, class_weight=None, coef0=0.0,\n",
            "    decision_function_shape='ovr', degree=3, gamma='scale', kernel='linear',\n",
            "    max_iter=-1, probability=False, random_state=None, shrinking=True,\n",
            "    tol=0.001, verbose=False)\n",
            "グリッドサーチの正解率 =  0.9666666666666667\n"
          ],
          "name": "stdout"
        }
      ]
    },
    {
      "cell_type": "markdown",
      "metadata": {
        "id": "lO7U8dBOCYs4"
      },
      "source": [
        "### Numpyの動作確認\n",
        "\n"
      ]
    },
    {
      "cell_type": "code",
      "metadata": {
        "id": "mAgJi6t2CWf_",
        "outputId": "faf637fd-9578-4102-b730-8168f7c59b08",
        "colab": {
          "base_uri": "https://localhost:8080/"
        }
      },
      "source": [
        "import numpy as np\n",
        "\n",
        "# numpy配列の初期化\n",
        "#ndarrayというnumpy配列を生成\n",
        "a = np.array([1,2,3,4,5])\n",
        "print(a)\n",
        "#type関数で関数型を表示\n",
        "print(type(a))\n",
        "\n"
      ],
      "execution_count": 12,
      "outputs": [
        {
          "output_type": "stream",
          "text": [
            "[1 2 3 4 5]\n",
            "<class 'numpy.ndarray'>\n"
          ],
          "name": "stdout"
        }
      ]
    },
    {
      "cell_type": "code",
      "metadata": {
        "id": "uFP7hV2TDF5K",
        "outputId": "a3a59259-b420-44c2-8995-342e3d918165",
        "colab": {
          "base_uri": "https://localhost:8080/"
        }
      },
      "source": [
        "#2次元配列のndarrayを定義\n",
        "b = np.array([[1,2,3],[4,5,6]])\n",
        "print(b)"
      ],
      "execution_count": 13,
      "outputs": [
        {
          "output_type": "stream",
          "text": [
            "[[1 2 3]\n",
            " [4 5 6]]\n"
          ],
          "name": "stdout"
        }
      ]
    },
    {
      "cell_type": "code",
      "metadata": {
        "id": "HjsfxT6YDIrY",
        "outputId": "5d6c8380-3f0c-4b36-dd94-5b4504b01ae6",
        "colab": {
          "base_uri": "https://localhost:8080/"
        }
      },
      "source": [
        "#配列の要素数を指定して初期化状態で作成\n",
        "#1次元配列\n",
        "print(np.zeros(10))\n",
        "#2次元配列\n",
        "print(np.zeros((3,2)))\n",
        "#配列の中身を１で初期化\n",
        "print(np.ones(3))"
      ],
      "execution_count": 14,
      "outputs": [
        {
          "output_type": "stream",
          "text": [
            "[0. 0. 0. 0. 0. 0. 0. 0. 0. 0.]\n",
            "[[0. 0.]\n",
            " [0. 0.]\n",
            " [0. 0.]]\n",
            "[1. 1. 1.]\n"
          ],
          "name": "stdout"
        }
      ]
    },
    {
      "cell_type": "code",
      "metadata": {
        "id": "0HtIvqUEDKPx",
        "outputId": "62ebbdb0-e072-430a-8a82-512403ee3847",
        "colab": {
          "base_uri": "https://localhost:8080/"
        }
      },
      "source": [
        "#配列を要素数を指定して初期化\n",
        "print(np.arange(5))\n",
        "print(np.arange(2,4))\n",
        "print( np.arange(5, 8, 0.5) )"
      ],
      "execution_count": 15,
      "outputs": [
        {
          "output_type": "stream",
          "text": [
            "[0 1 2 3 4]\n",
            "[2 3]\n",
            "[5.  5.5 6.  6.5 7.  7.5]\n"
          ],
          "name": "stdout"
        }
      ]
    },
    {
      "cell_type": "markdown",
      "metadata": {
        "id": "5Jd6c0b6CbZf"
      },
      "source": [
        "### numpyで行列計算\n",
        "\n"
      ]
    },
    {
      "cell_type": "code",
      "metadata": {
        "id": "L2nswbcACaxG",
        "outputId": "1ccdd07d-a953-48e4-8ddd-561fe75c22ec",
        "colab": {
          "base_uri": "https://localhost:8080/"
        }
      },
      "source": [
        "a = np.array( [1, 2, 3, 4, 5] )\n",
        "b = a*2 # 全ての要素を一度に2倍\n",
        "print(b)\n",
        "x = np.arange(10)\n",
        "print(x)\n",
        "y = 3*x + 5 # 全ての要素に一度に四則演算\n",
        "print(y)"
      ],
      "execution_count": 16,
      "outputs": [
        {
          "output_type": "stream",
          "text": [
            "[ 2  4  6  8 10]\n",
            "[0 1 2 3 4 5 6 7 8 9]\n",
            "[ 5  8 11 14 17 20 23 26 29 32]\n"
          ],
          "name": "stdout"
        }
      ]
    },
    {
      "cell_type": "code",
      "metadata": {
        "id": "aP-JFb8bCesE",
        "outputId": "cb9435fe-74b8-4c3e-fa56-882b99bcd5cd",
        "colab": {
          "base_uri": "https://localhost:8080/"
        }
      },
      "source": [
        "# 配列の次元数を表示\n",
        "a = np.array( [[1, 2, 3], [4, 5, 6]] )\n",
        "print(a)\n",
        "print(a.shape)\n",
        "\n",
        "b = np.array([[1, 2, 3], [4, 5, 6], [7, 8, 9]])\n",
        "print(b)\n",
        "print(b.shape)"
      ],
      "execution_count": 17,
      "outputs": [
        {
          "output_type": "stream",
          "text": [
            "[[1 2 3]\n",
            " [4 5 6]]\n",
            "(2, 3)\n",
            "[[1 2 3]\n",
            " [4 5 6]\n",
            " [7 8 9]]\n",
            "(3, 3)\n"
          ],
          "name": "stdout"
        }
      ]
    },
    {
      "cell_type": "code",
      "metadata": {
        "id": "orASRI4kDeo6",
        "outputId": "3bb7779a-e552-4e4b-939a-5d12a70b2622",
        "colab": {
          "base_uri": "https://localhost:8080/"
        }
      },
      "source": [
        "# Numpy配列で次元数を変換する\n",
        "a = np.array( [[1, 2, 3], [4, 5, 6]] )\n",
        "print(\"a = \", a, \"\\n\")\n",
        "b = a.flatten() # フラットにする(1次元配列にする)\n",
        "print(\"b = \", b, \"\\n\")\n",
        "\n",
        "a = np.array( [[1, 2, 3], [4, 5, 6]] ) # ２行3列\n",
        "print(a, \"\\n\")\n",
        "b = a.reshape(3,2) # 3行2列に回転(変換)\n",
        "print(b)"
      ],
      "execution_count": 18,
      "outputs": [
        {
          "output_type": "stream",
          "text": [
            "a =  [[1 2 3]\n",
            " [4 5 6]] \n",
            "\n",
            "b =  [1 2 3 4 5 6] \n",
            "\n",
            "[[1 2 3]\n",
            " [4 5 6]] \n",
            "\n",
            "[[1 2]\n",
            " [3 4]\n",
            " [5 6]]\n"
          ],
          "name": "stdout"
        }
      ]
    },
    {
      "cell_type": "code",
      "metadata": {
        "id": "aaRaBJ2dDgTX",
        "outputId": "03095a8b-a217-4cd9-b999-4add99d761b8",
        "colab": {
          "base_uri": "https://localhost:8080/"
        }
      },
      "source": [
        "# 配列の参照\n",
        "v = np.array( [[1, 2, 3], [4, 5, 6], [7, 8, 9]] )\n",
        "a = v[0]\n",
        "print(a, \"\\n\") # 2次元配列の0行目\n",
        "b = v[1:]\n",
        "print(b, \"\\n\") # 1行目以降\n",
        "c = v[:, 0]\n",
        "print(c) # 全ての行の0列目"
      ],
      "execution_count": 19,
      "outputs": [
        {
          "output_type": "stream",
          "text": [
            "[1 2 3] \n",
            "\n",
            "[[4 5 6]\n",
            " [7 8 9]] \n",
            "\n",
            "[1 4 7]\n"
          ],
          "name": "stdout"
        }
      ]
    },
    {
      "cell_type": "code",
      "metadata": {
        "id": "GVzlYGn3DiEQ"
      },
      "source": [
        ""
      ],
      "execution_count": 19,
      "outputs": []
    }
  ]
}