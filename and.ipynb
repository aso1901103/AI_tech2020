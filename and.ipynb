{
  "nbformat": 4,
  "nbformat_minor": 0,
  "metadata": {
    "colab": {
      "name": "and.ipynb",
      "provenance": [],
      "authorship_tag": "ABX9TyOlSpO0LTZ4BoRnkruEI6T3",
      "include_colab_link": true
    },
    "kernelspec": {
      "name": "python3",
      "display_name": "Python 3"
    }
  },
  "cells": [
    {
      "cell_type": "markdown",
      "metadata": {
        "id": "view-in-github",
        "colab_type": "text"
      },
      "source": [
        "<a href=\"https://colab.research.google.com/github/aso1901103/AI_tech2020/blob/master/and.ipynb\" target=\"_parent\"><img src=\"https://colab.research.google.com/assets/colab-badge.svg\" alt=\"Open In Colab\"/></a>"
      ]
    },
    {
      "cell_type": "markdown",
      "metadata": {
        "id": "j-mQIMK6j5DM"
      },
      "source": [
        "### AND演算をモデルに学ばせる(LinearSVC)"
      ]
    },
    {
      "cell_type": "code",
      "metadata": {
        "id": "TSW_euW6j83A"
      },
      "source": [
        "#scikit-learnをインポート\n",
        "from sklearn.svm import LinearSVC # 線形SVCのオブジェクト\n",
        "from sklearn.metrics import accuracy_score # 結果を表示するためのオブジェクト"
      ],
      "execution_count": 1,
      "outputs": []
    },
    {
      "cell_type": "markdown",
      "metadata": {
        "id": "4avhhPNej_yr"
      },
      "source": [
        "### 学習のためのデータを用意する"
      ]
    },
    {
      "cell_type": "code",
      "metadata": {
        "id": "jKV0v2VWj-mV"
      },
      "source": [
        "# 入力値を表すデータ\n",
        "# 入力X,入力Y\n",
        "learn_data = [[0,0], [1,0], [0,1], [1,1]]\n",
        "# ANDの結果\n",
        "learn_label = [ 0,0,0,1 ]\n"
      ],
      "execution_count": 2,
      "outputs": []
    },
    {
      "cell_type": "markdown",
      "metadata": {
        "id": "DQzTedq-kG1b"
      },
      "source": [
        "### アルゴリズムのインスタンスを生成"
      ]
    },
    {
      "cell_type": "code",
      "metadata": {
        "id": "aqpWYdgxkDNi"
      },
      "source": [
        "### 線形インスタンスを生成\n",
        "clf = LinearSVC()"
      ],
      "execution_count": 3,
      "outputs": []
    },
    {
      "cell_type": "markdown",
      "metadata": {
        "id": "DfQILFgnkMDC"
      },
      "source": [
        "### モデルに学習させる(fitメソッド)"
      ]
    },
    {
      "cell_type": "code",
      "metadata": {
        "id": "CV_aOKNSkFj6",
        "outputId": "53312822-26e7-4078-c2e9-26cb4d6d239a",
        "colab": {
          "base_uri": "https://localhost:8080/",
          "height": 87
        }
      },
      "source": [
        "clf.fit(learn_data, learn_label)"
      ],
      "execution_count": 4,
      "outputs": [
        {
          "output_type": "execute_result",
          "data": {
            "text/plain": [
              "LinearSVC(C=1.0, class_weight=None, dual=True, fit_intercept=True,\n",
              "          intercept_scaling=1, loss='squared_hinge', max_iter=1000,\n",
              "          multi_class='ovr', penalty='l2', random_state=None, tol=0.0001,\n",
              "          verbose=0)"
            ]
          },
          "metadata": {
            "tags": []
          },
          "execution_count": 4
        }
      ]
    },
    {
      "cell_type": "markdown",
      "metadata": {
        "id": "Gvt83v-zkP3E"
      },
      "source": [
        "### モデルがちゃんと学習できたかテストデータで予測"
      ]
    },
    {
      "cell_type": "code",
      "metadata": {
        "id": "ODO1hPG2kODk",
        "outputId": "5c8d167c-e5f6-438a-8bd3-3a38a20aeafb",
        "colab": {
          "base_uri": "https://localhost:8080/",
          "height": 52
        }
      },
      "source": [
        "### 予測用のテストデータを作る\n",
        "test_data = [ [0,0], [1,0], [0,1], [1,1]] \n",
        "#モデルにテストデータを予測させる(predict)\n",
        "test_label = clf.predict(test_data)\n",
        "#予測結果の評価\n",
        "print(test_data, \"の予測結果\" ,test_label)\n",
        "#結果の精度を表示\n",
        "print(\"正解率 =\", accuracy_score([0,0,0,1],test_label))"
      ],
      "execution_count": 5,
      "outputs": [
        {
          "output_type": "stream",
          "text": [
            "[[0, 0], [1, 0], [0, 1], [1, 1]] の予測結果 [0 0 0 1]\n",
            "正解率 = 1.0\n"
          ],
          "name": "stdout"
        }
      ]
    },
    {
      "cell_type": "markdown",
      "metadata": {
        "id": "Nqad9bjCwhNU"
      },
      "source": [
        "### XOR演算を実装する"
      ]
    },
    {
      "cell_type": "code",
      "metadata": {
        "id": "hotSa5YekUrJ"
      },
      "source": [
        "# XOR演算を学習するためのデータを用意する\n",
        "# X,Yの順\n",
        "learn_data = [ [0,0], [1,0], [0,1], [1,1] ]\n",
        "#X xor Y の結果正解データ\n",
        "learn_label = [ 0, 1, 1, 0]"
      ],
      "execution_count": 6,
      "outputs": []
    },
    {
      "cell_type": "code",
      "metadata": {
        "id": "LuSoH-mzxYCk",
        "outputId": "c61c6d4a-6776-4b88-a422-e0cd1ae63413",
        "colab": {
          "base_uri": "https://localhost:8080/",
          "height": 87
        }
      },
      "source": [
        "#学習モデルのインスタンスを作成(LinearSVC)\n",
        "clf = LinearSVC()\n",
        "#学習させる\n",
        "clf.fit(learn_data,learn_label)"
      ],
      "execution_count": 7,
      "outputs": [
        {
          "output_type": "execute_result",
          "data": {
            "text/plain": [
              "LinearSVC(C=1.0, class_weight=None, dual=True, fit_intercept=True,\n",
              "          intercept_scaling=1, loss='squared_hinge', max_iter=1000,\n",
              "          multi_class='ovr', penalty='l2', random_state=None, tol=0.0001,\n",
              "          verbose=0)"
            ]
          },
          "metadata": {
            "tags": []
          },
          "execution_count": 7
        }
      ]
    },
    {
      "cell_type": "code",
      "metadata": {
        "id": "jejm1_eaxwfs"
      },
      "source": [
        "# 学習モデルに推論させる\n",
        "test_data = [ [0,0], [1,0], [0,1], [1,1] ]\n",
        "test_label= clf.predict(test_data)"
      ],
      "execution_count": 8,
      "outputs": []
    },
    {
      "cell_type": "code",
      "metadata": {
        "id": "OxcLdLxiyf4h",
        "outputId": "db00a0d9-e445-4452-9e9c-d0c51420b14f",
        "colab": {
          "base_uri": "https://localhost:8080/",
          "height": 52
        }
      },
      "source": [
        "# 結果の検証\n",
        "print(test_data, \"の予測結果\", test_label)\n",
        "print(\"正解率 = \", accuracy_score([0,1,1,0],test_label))"
      ],
      "execution_count": 9,
      "outputs": [
        {
          "output_type": "stream",
          "text": [
            "[[0, 0], [1, 0], [0, 1], [1, 1]] の予測結果 [0 0 0 0]\n",
            "正解率 =  0.5\n"
          ],
          "name": "stdout"
        }
      ]
    },
    {
      "cell_type": "markdown",
      "metadata": {
        "id": "tZhqSqXzZsIY"
      },
      "source": [
        "### K近傍法でXOR演算を実装する"
      ]
    },
    {
      "cell_type": "code",
      "metadata": {
        "id": "wCwpCCi2zQX4"
      },
      "source": [
        "# K近傍法のアルゴリズムのクラスをimport\n",
        "from sklearn.neighbors import KNeighborsClassifier"
      ],
      "execution_count": 10,
      "outputs": []
    },
    {
      "cell_type": "code",
      "metadata": {
        "id": "S_WZe9H5Z_J8"
      },
      "source": [
        "# 学習モデルの変数clfをK近傍法アルゴリズムのインスタンスで上書き\n",
        "clf = KNeighborsClassifier(n_neighbors=1)"
      ],
      "execution_count": 11,
      "outputs": []
    },
    {
      "cell_type": "code",
      "metadata": {
        "id": "CogpXqbCanQt",
        "outputId": "5846cf3b-d663-44bb-be3a-6541689898d9",
        "colab": {
          "base_uri": "https://localhost:8080/",
          "height": 70
        }
      },
      "source": [
        "# 学習用入力データと結果用正解データを使って学習\n",
        "clf.fit(learn_data, learn_label)"
      ],
      "execution_count": 12,
      "outputs": [
        {
          "output_type": "execute_result",
          "data": {
            "text/plain": [
              "KNeighborsClassifier(algorithm='auto', leaf_size=30, metric='minkowski',\n",
              "                     metric_params=None, n_jobs=None, n_neighbors=1, p=2,\n",
              "                     weights='uniform')"
            ]
          },
          "metadata": {
            "tags": []
          },
          "execution_count": 12
        }
      ]
    },
    {
      "cell_type": "markdown",
      "metadata": {
        "id": "LQ9p_s-bbfvw"
      },
      "source": [
        "### テスト検証用データで推論する"
      ]
    },
    {
      "cell_type": "code",
      "metadata": {
        "id": "P4O-pqwobJ07",
        "outputId": "dcffcb80-3d2a-4ad7-b5cc-a0645773092d",
        "colab": {
          "base_uri": "https://localhost:8080/",
          "height": 52
        }
      },
      "source": [
        "# テスト検証用データと答え合わせ用の正解データ\n",
        "test_label = clf.predict(test_data)\n",
        "\n",
        "# 推論結果の評価\n",
        "print(test_data, \"の予測(推論)結果\", test_label)\n",
        "print(\"正解率 = \", accuracy_score([0,1,1,0],test_label))"
      ],
      "execution_count": 16,
      "outputs": [
        {
          "output_type": "stream",
          "text": [
            "[[0, 0], [1, 0], [0, 1], [1, 1]] の予測(推論)結果 [0 1 1 0]\n",
            "正解率 =  1.0\n"
          ],
          "name": "stdout"
        }
      ]
    },
    {
      "cell_type": "code",
      "metadata": {
        "id": "hp-405_UcFjY"
      },
      "source": [
        ""
      ],
      "execution_count": null,
      "outputs": []
    }
  ]
}