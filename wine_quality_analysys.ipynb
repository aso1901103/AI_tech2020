{
  "nbformat": 4,
  "nbformat_minor": 0,
  "metadata": {
    "kernelspec": {
      "display_name": "Python 3",
      "language": "python",
      "name": "python3"
    },
    "language_info": {
      "codemirror_mode": {
        "name": "ipython",
        "version": 3
      },
      "file_extension": ".py",
      "mimetype": "text/x-python",
      "name": "python",
      "nbconvert_exporter": "python",
      "pygments_lexer": "ipython3",
      "version": "3.7.1"
    },
    "colab": {
      "name": "wine-quality_analysys.ipynb",
      "provenance": [],
      "toc_visible": true,
      "include_colab_link": true
    }
  },
  "cells": [
    {
      "cell_type": "markdown",
      "metadata": {
        "id": "view-in-github",
        "colab_type": "text"
      },
      "source": [
        "<a href=\"https://colab.research.google.com/github/aso1901103/AI_tech2020/blob/master/wine_quality_analysys.ipynb\" target=\"_parent\"><img src=\"https://colab.research.google.com/assets/colab-badge.svg\" alt=\"Open In Colab\"/></a>"
      ]
    },
    {
      "cell_type": "markdown",
      "metadata": {
        "id": "k1AdiaeswQRn"
      },
      "source": [
        "# 機械学習を用いたデータ分析 \n"
      ]
    },
    {
      "cell_type": "code",
      "metadata": {
        "id": "8JfpBDg2wQRs"
      },
      "source": [
        "# Jupyter notebook（python）を用いたデータ分析のデモ資料です\n",
        "# ・pandasによるデータハンドリング\n",
        "# ・matplotlibによる可視化\n",
        "# ・機械学習による回帰分析（数値の予測）\n",
        "# 　　・重回帰分析による予測\n",
        "# の具体的な実行例です"
      ],
      "execution_count": null,
      "outputs": []
    },
    {
      "cell_type": "code",
      "metadata": {
        "id": "w6EBWgKHwQRt"
      },
      "source": [
        "# ■分析に必要なモジュールをimportによりインポートします\n",
        "# ・データ分析ライブラリで、データフレーム形式でデータを扱うことを可能にするpandas、\n",
        "# ・数値処理計算をするnumpy、\n",
        "# ・可視化（図示）をするmatplotlib、\n",
        "# をimportしておきます\n",
        "\n",
        "import pandas as pd\n",
        "import numpy as np\n",
        "import matplotlib.pyplot as plt\n",
        "%matplotlib inline"
      ],
      "execution_count": null,
      "outputs": []
    },
    {
      "cell_type": "code",
      "metadata": {
        "id": "f-JH0gI7wQRt"
      },
      "source": [
        "# ■データの読み込みをします\n",
        "# 白ワインと赤ワインの品質に関するデータを使用します\n",
        "# 　・カリフォルニア大学アーバイン校 (UCI)が提供しているオープンデータを使用\n",
        "# 　・https://archive.ics.uci.edu/ml/datasets/wine+quality\n",
        "\n",
        "# データの読込みは、pandasのread_csvを使用します\n",
        "# delimiterはデータの区切りを明示的に変えるときに使用します（今回は;）\n",
        "\n",
        "# 白ワインのデータの読込み\n",
        "df_w = pd.read_csv(\"winequality-white.csv\", delimiter=';' )\n",
        "\n",
        "# 赤ワインのデータの読込み\n",
        "df_r = pd.read_csv(\"winequality-red.csv\", delimiter=';' )"
      ],
      "execution_count": null,
      "outputs": []
    },
    {
      "cell_type": "code",
      "metadata": {
        "id": "6EuVtLr8wQRt",
        "colab": {
          "base_uri": "https://localhost:8080/"
        },
        "outputId": "d3a231df-3159-4c42-b12d-74f19c067f20"
      },
      "source": [
        "# 読み込んだデータの列名の確認\n",
        "df_w.columns"
      ],
      "execution_count": null,
      "outputs": [
        {
          "output_type": "execute_result",
          "data": {
            "text/plain": [
              "Index(['fixed acidity', 'volatile acidity', 'citric acid', 'residual sugar',\n",
              "       'chlorides', 'free sulfur dioxide', 'total sulfur dioxide', 'density',\n",
              "       'pH', 'sulphates', 'alcohol', 'quality'],\n",
              "      dtype='object')"
            ]
          },
          "metadata": {
            "tags": []
          },
          "execution_count": 4
        }
      ]
    },
    {
      "cell_type": "code",
      "metadata": {
        "id": "F734RTZvwQRt",
        "colab": {
          "base_uri": "https://localhost:8080/"
        },
        "outputId": "06834dc1-dbfe-410e-99b9-6a29ac6d90d4"
      },
      "source": [
        "# 変数名を指定することで、変数の値が取り出せる\n",
        "df_w['fixed acidity']"
      ],
      "execution_count": null,
      "outputs": [
        {
          "output_type": "execute_result",
          "data": {
            "text/plain": [
              "0       7.0\n",
              "1       6.3\n",
              "2       8.1\n",
              "3       7.2\n",
              "4       7.2\n",
              "       ... \n",
              "4893    6.2\n",
              "4894    6.6\n",
              "4895    6.5\n",
              "4896    5.5\n",
              "4897    6.0\n",
              "Name: fixed acidity, Length: 4898, dtype: float64"
            ]
          },
          "metadata": {
            "tags": []
          },
          "execution_count": 5
        }
      ]
    },
    {
      "cell_type": "code",
      "metadata": {
        "id": "SV1TtNucwQRu"
      },
      "source": [
        "# ■データセットの確認\n",
        "# データセットの確認には、pandasが持っているメソッドである、head、info、describeなどを使用します"
      ],
      "execution_count": null,
      "outputs": []
    },
    {
      "cell_type": "code",
      "metadata": {
        "id": "5_IbLd6RwQRu",
        "colab": {
          "base_uri": "https://localhost:8080/"
        },
        "outputId": "59772d7a-632b-4415-f187-6242c2c3cf0c"
      },
      "source": [
        "# infoメソッド\n",
        "\n",
        "df_w.info()"
      ],
      "execution_count": null,
      "outputs": [
        {
          "output_type": "stream",
          "text": [
            "<class 'pandas.core.frame.DataFrame'>\n",
            "RangeIndex: 4898 entries, 0 to 4897\n",
            "Data columns (total 12 columns):\n",
            " #   Column                Non-Null Count  Dtype  \n",
            "---  ------                --------------  -----  \n",
            " 0   fixed acidity         4898 non-null   float64\n",
            " 1   volatile acidity      4898 non-null   float64\n",
            " 2   citric acid           4898 non-null   float64\n",
            " 3   residual sugar        4898 non-null   float64\n",
            " 4   chlorides             4898 non-null   float64\n",
            " 5   free sulfur dioxide   4898 non-null   float64\n",
            " 6   total sulfur dioxide  4898 non-null   float64\n",
            " 7   density               4898 non-null   float64\n",
            " 8   pH                    4898 non-null   float64\n",
            " 9   sulphates             4898 non-null   float64\n",
            " 10  alcohol               4898 non-null   float64\n",
            " 11  quality               4898 non-null   int64  \n",
            "dtypes: float64(11), int64(1)\n",
            "memory usage: 459.3 KB\n"
          ],
          "name": "stdout"
        }
      ]
    },
    {
      "cell_type": "code",
      "metadata": {
        "id": "MEAECGMhwQRu"
      },
      "source": [
        "# RangeIndex: 4898 entries, 0 to 4897\n",
        "# ⇒ 列数が4898列（＝サンプル数）\n",
        "# Data columns (total 12 columns):\n",
        "# ⇒ 行数が12行（＝変数の数が12個）    \n",
        "# fixed acidity           4898 non-null float64\n",
        "# volatile acidity        4898 non-null float64\n",
        "# citric acid             4898 non-null float64\n",
        "# residual sugar          4898 non-null float64\n",
        "# chlorides               4898 non-null float64\n",
        "# free sulfur dioxide     4898 non-null float64\n",
        "# total sulfur dioxide    4898 non-null float64\n",
        "# density                 4898 non-null float64\n",
        "# pH                      4898 non-null float64\n",
        "# sulphates               4898 non-null float64\n",
        "# alcohol                 4898 non-null float64\n",
        "# quality                 4898 non-null int64\n",
        "# ⇒ 品質(quality)と、品質と関係のある11個の変数がある\n",
        "# ⇒ non-nullはnull（欠損）がないことを意味している\n",
        "# ⇒ float64やint64は変数の型を示している"
      ],
      "execution_count": null,
      "outputs": []
    },
    {
      "cell_type": "code",
      "metadata": {
        "id": "V5sRaAgUwQRv",
        "colab": {
          "base_uri": "https://localhost:8080/"
        },
        "outputId": "45d45438-4696-425f-9aa5-41015f6e597d"
      },
      "source": [
        "# 赤ワインは、変数の数は12個で同じで、サンプル数が1599サンプルと白ワインより少ない\n",
        "\n",
        "df_r.info()"
      ],
      "execution_count": null,
      "outputs": [
        {
          "output_type": "stream",
          "text": [
            "<class 'pandas.core.frame.DataFrame'>\n",
            "RangeIndex: 1599 entries, 0 to 1598\n",
            "Data columns (total 12 columns):\n",
            " #   Column                Non-Null Count  Dtype  \n",
            "---  ------                --------------  -----  \n",
            " 0   fixed acidity         1599 non-null   float64\n",
            " 1   volatile acidity      1599 non-null   float64\n",
            " 2   citric acid           1599 non-null   float64\n",
            " 3   residual sugar        1599 non-null   float64\n",
            " 4   chlorides             1599 non-null   float64\n",
            " 5   free sulfur dioxide   1599 non-null   float64\n",
            " 6   total sulfur dioxide  1599 non-null   float64\n",
            " 7   density               1599 non-null   float64\n",
            " 8   pH                    1599 non-null   float64\n",
            " 9   sulphates             1599 non-null   float64\n",
            " 10  alcohol               1599 non-null   float64\n",
            " 11  quality               1599 non-null   int64  \n",
            "dtypes: float64(11), int64(1)\n",
            "memory usage: 150.0 KB\n"
          ],
          "name": "stdout"
        }
      ]
    },
    {
      "cell_type": "code",
      "metadata": {
        "id": "Y8MB7-lFwQRv",
        "colab": {
          "base_uri": "https://localhost:8080/",
          "height": 212
        },
        "outputId": "f03ab6bb-c1a0-4b06-e11b-4bbde1bfcad3"
      },
      "source": [
        "# headメソッド\n",
        "# シェルのheadと同様に、先頭行n行の確認ができます\n",
        "# データセットを加工している途中に中身の確認などによく使います\n",
        "# デフォルトでは先頭5行が表示されます\n",
        "\n",
        "df_w.head()"
      ],
      "execution_count": null,
      "outputs": [
        {
          "output_type": "execute_result",
          "data": {
            "text/html": [
              "<div>\n",
              "<style scoped>\n",
              "    .dataframe tbody tr th:only-of-type {\n",
              "        vertical-align: middle;\n",
              "    }\n",
              "\n",
              "    .dataframe tbody tr th {\n",
              "        vertical-align: top;\n",
              "    }\n",
              "\n",
              "    .dataframe thead th {\n",
              "        text-align: right;\n",
              "    }\n",
              "</style>\n",
              "<table border=\"1\" class=\"dataframe\">\n",
              "  <thead>\n",
              "    <tr style=\"text-align: right;\">\n",
              "      <th></th>\n",
              "      <th>fixed acidity</th>\n",
              "      <th>volatile acidity</th>\n",
              "      <th>citric acid</th>\n",
              "      <th>residual sugar</th>\n",
              "      <th>chlorides</th>\n",
              "      <th>free sulfur dioxide</th>\n",
              "      <th>total sulfur dioxide</th>\n",
              "      <th>density</th>\n",
              "      <th>pH</th>\n",
              "      <th>sulphates</th>\n",
              "      <th>alcohol</th>\n",
              "      <th>quality</th>\n",
              "    </tr>\n",
              "  </thead>\n",
              "  <tbody>\n",
              "    <tr>\n",
              "      <th>0</th>\n",
              "      <td>7.0</td>\n",
              "      <td>0.27</td>\n",
              "      <td>0.36</td>\n",
              "      <td>20.7</td>\n",
              "      <td>0.045</td>\n",
              "      <td>45.0</td>\n",
              "      <td>170.0</td>\n",
              "      <td>1.0010</td>\n",
              "      <td>3.00</td>\n",
              "      <td>0.45</td>\n",
              "      <td>8.8</td>\n",
              "      <td>6</td>\n",
              "    </tr>\n",
              "    <tr>\n",
              "      <th>1</th>\n",
              "      <td>6.3</td>\n",
              "      <td>0.30</td>\n",
              "      <td>0.34</td>\n",
              "      <td>1.6</td>\n",
              "      <td>0.049</td>\n",
              "      <td>14.0</td>\n",
              "      <td>132.0</td>\n",
              "      <td>0.9940</td>\n",
              "      <td>3.30</td>\n",
              "      <td>0.49</td>\n",
              "      <td>9.5</td>\n",
              "      <td>6</td>\n",
              "    </tr>\n",
              "    <tr>\n",
              "      <th>2</th>\n",
              "      <td>8.1</td>\n",
              "      <td>0.28</td>\n",
              "      <td>0.40</td>\n",
              "      <td>6.9</td>\n",
              "      <td>0.050</td>\n",
              "      <td>30.0</td>\n",
              "      <td>97.0</td>\n",
              "      <td>0.9951</td>\n",
              "      <td>3.26</td>\n",
              "      <td>0.44</td>\n",
              "      <td>10.1</td>\n",
              "      <td>6</td>\n",
              "    </tr>\n",
              "    <tr>\n",
              "      <th>3</th>\n",
              "      <td>7.2</td>\n",
              "      <td>0.23</td>\n",
              "      <td>0.32</td>\n",
              "      <td>8.5</td>\n",
              "      <td>0.058</td>\n",
              "      <td>47.0</td>\n",
              "      <td>186.0</td>\n",
              "      <td>0.9956</td>\n",
              "      <td>3.19</td>\n",
              "      <td>0.40</td>\n",
              "      <td>9.9</td>\n",
              "      <td>6</td>\n",
              "    </tr>\n",
              "    <tr>\n",
              "      <th>4</th>\n",
              "      <td>7.2</td>\n",
              "      <td>0.23</td>\n",
              "      <td>0.32</td>\n",
              "      <td>8.5</td>\n",
              "      <td>0.058</td>\n",
              "      <td>47.0</td>\n",
              "      <td>186.0</td>\n",
              "      <td>0.9956</td>\n",
              "      <td>3.19</td>\n",
              "      <td>0.40</td>\n",
              "      <td>9.9</td>\n",
              "      <td>6</td>\n",
              "    </tr>\n",
              "  </tbody>\n",
              "</table>\n",
              "</div>"
            ],
            "text/plain": [
              "   fixed acidity  volatile acidity  citric acid  ...  sulphates  alcohol  quality\n",
              "0            7.0              0.27         0.36  ...       0.45      8.8        6\n",
              "1            6.3              0.30         0.34  ...       0.49      9.5        6\n",
              "2            8.1              0.28         0.40  ...       0.44     10.1        6\n",
              "3            7.2              0.23         0.32  ...       0.40      9.9        6\n",
              "4            7.2              0.23         0.32  ...       0.40      9.9        6\n",
              "\n",
              "[5 rows x 12 columns]"
            ]
          },
          "metadata": {
            "tags": []
          },
          "execution_count": 9
        }
      ]
    },
    {
      "cell_type": "code",
      "metadata": {
        "id": "ywtihyWHwQRv",
        "colab": {
          "base_uri": "https://localhost:8080/",
          "height": 212
        },
        "outputId": "88c939b0-ab41-44d1-df5a-af953b77c615"
      },
      "source": [
        "# シェルと同様に、tail()もあります\n",
        "df_w.tail()"
      ],
      "execution_count": null,
      "outputs": [
        {
          "output_type": "execute_result",
          "data": {
            "text/html": [
              "<div>\n",
              "<style scoped>\n",
              "    .dataframe tbody tr th:only-of-type {\n",
              "        vertical-align: middle;\n",
              "    }\n",
              "\n",
              "    .dataframe tbody tr th {\n",
              "        vertical-align: top;\n",
              "    }\n",
              "\n",
              "    .dataframe thead th {\n",
              "        text-align: right;\n",
              "    }\n",
              "</style>\n",
              "<table border=\"1\" class=\"dataframe\">\n",
              "  <thead>\n",
              "    <tr style=\"text-align: right;\">\n",
              "      <th></th>\n",
              "      <th>fixed acidity</th>\n",
              "      <th>volatile acidity</th>\n",
              "      <th>citric acid</th>\n",
              "      <th>residual sugar</th>\n",
              "      <th>chlorides</th>\n",
              "      <th>free sulfur dioxide</th>\n",
              "      <th>total sulfur dioxide</th>\n",
              "      <th>density</th>\n",
              "      <th>pH</th>\n",
              "      <th>sulphates</th>\n",
              "      <th>alcohol</th>\n",
              "      <th>quality</th>\n",
              "    </tr>\n",
              "  </thead>\n",
              "  <tbody>\n",
              "    <tr>\n",
              "      <th>4893</th>\n",
              "      <td>6.2</td>\n",
              "      <td>0.21</td>\n",
              "      <td>0.29</td>\n",
              "      <td>1.6</td>\n",
              "      <td>0.039</td>\n",
              "      <td>24.0</td>\n",
              "      <td>92.0</td>\n",
              "      <td>0.99114</td>\n",
              "      <td>3.27</td>\n",
              "      <td>0.50</td>\n",
              "      <td>11.2</td>\n",
              "      <td>6</td>\n",
              "    </tr>\n",
              "    <tr>\n",
              "      <th>4894</th>\n",
              "      <td>6.6</td>\n",
              "      <td>0.32</td>\n",
              "      <td>0.36</td>\n",
              "      <td>8.0</td>\n",
              "      <td>0.047</td>\n",
              "      <td>57.0</td>\n",
              "      <td>168.0</td>\n",
              "      <td>0.99490</td>\n",
              "      <td>3.15</td>\n",
              "      <td>0.46</td>\n",
              "      <td>9.6</td>\n",
              "      <td>5</td>\n",
              "    </tr>\n",
              "    <tr>\n",
              "      <th>4895</th>\n",
              "      <td>6.5</td>\n",
              "      <td>0.24</td>\n",
              "      <td>0.19</td>\n",
              "      <td>1.2</td>\n",
              "      <td>0.041</td>\n",
              "      <td>30.0</td>\n",
              "      <td>111.0</td>\n",
              "      <td>0.99254</td>\n",
              "      <td>2.99</td>\n",
              "      <td>0.46</td>\n",
              "      <td>9.4</td>\n",
              "      <td>6</td>\n",
              "    </tr>\n",
              "    <tr>\n",
              "      <th>4896</th>\n",
              "      <td>5.5</td>\n",
              "      <td>0.29</td>\n",
              "      <td>0.30</td>\n",
              "      <td>1.1</td>\n",
              "      <td>0.022</td>\n",
              "      <td>20.0</td>\n",
              "      <td>110.0</td>\n",
              "      <td>0.98869</td>\n",
              "      <td>3.34</td>\n",
              "      <td>0.38</td>\n",
              "      <td>12.8</td>\n",
              "      <td>7</td>\n",
              "    </tr>\n",
              "    <tr>\n",
              "      <th>4897</th>\n",
              "      <td>6.0</td>\n",
              "      <td>0.21</td>\n",
              "      <td>0.38</td>\n",
              "      <td>0.8</td>\n",
              "      <td>0.020</td>\n",
              "      <td>22.0</td>\n",
              "      <td>98.0</td>\n",
              "      <td>0.98941</td>\n",
              "      <td>3.26</td>\n",
              "      <td>0.32</td>\n",
              "      <td>11.8</td>\n",
              "      <td>6</td>\n",
              "    </tr>\n",
              "  </tbody>\n",
              "</table>\n",
              "</div>"
            ],
            "text/plain": [
              "      fixed acidity  volatile acidity  citric acid  ...  sulphates  alcohol  quality\n",
              "4893            6.2              0.21         0.29  ...       0.50     11.2        6\n",
              "4894            6.6              0.32         0.36  ...       0.46      9.6        5\n",
              "4895            6.5              0.24         0.19  ...       0.46      9.4        6\n",
              "4896            5.5              0.29         0.30  ...       0.38     12.8        7\n",
              "4897            6.0              0.21         0.38  ...       0.32     11.8        6\n",
              "\n",
              "[5 rows x 12 columns]"
            ]
          },
          "metadata": {
            "tags": []
          },
          "execution_count": 10
        }
      ]
    },
    {
      "cell_type": "code",
      "metadata": {
        "id": "nZn5PA73wQRv",
        "colab": {
          "base_uri": "https://localhost:8080/",
          "height": 338
        },
        "outputId": "78b9b801-1d62-4bfd-e448-d21e4de05ffa"
      },
      "source": [
        "# describeメソッド\n",
        "# 各変数の基本統計量の確認ができます\n",
        "# countは数、meanは平均、stdは標準偏差、minとmaxは最小と最大、25%/50%/75%はパーセンタイルで全体の25％、50％、75％に位置する値\n",
        "\n",
        "# 白ワインの各変数の基本統計量の確認\n",
        "df_w.describe()"
      ],
      "execution_count": null,
      "outputs": [
        {
          "output_type": "execute_result",
          "data": {
            "text/html": [
              "<div>\n",
              "<style scoped>\n",
              "    .dataframe tbody tr th:only-of-type {\n",
              "        vertical-align: middle;\n",
              "    }\n",
              "\n",
              "    .dataframe tbody tr th {\n",
              "        vertical-align: top;\n",
              "    }\n",
              "\n",
              "    .dataframe thead th {\n",
              "        text-align: right;\n",
              "    }\n",
              "</style>\n",
              "<table border=\"1\" class=\"dataframe\">\n",
              "  <thead>\n",
              "    <tr style=\"text-align: right;\">\n",
              "      <th></th>\n",
              "      <th>fixed acidity</th>\n",
              "      <th>volatile acidity</th>\n",
              "      <th>citric acid</th>\n",
              "      <th>residual sugar</th>\n",
              "      <th>chlorides</th>\n",
              "      <th>free sulfur dioxide</th>\n",
              "      <th>total sulfur dioxide</th>\n",
              "      <th>density</th>\n",
              "      <th>pH</th>\n",
              "      <th>sulphates</th>\n",
              "      <th>alcohol</th>\n",
              "      <th>quality</th>\n",
              "    </tr>\n",
              "  </thead>\n",
              "  <tbody>\n",
              "    <tr>\n",
              "      <th>count</th>\n",
              "      <td>4898.000000</td>\n",
              "      <td>4898.000000</td>\n",
              "      <td>4898.000000</td>\n",
              "      <td>4898.000000</td>\n",
              "      <td>4898.000000</td>\n",
              "      <td>4898.000000</td>\n",
              "      <td>4898.000000</td>\n",
              "      <td>4898.000000</td>\n",
              "      <td>4898.000000</td>\n",
              "      <td>4898.000000</td>\n",
              "      <td>4898.000000</td>\n",
              "      <td>4898.000000</td>\n",
              "    </tr>\n",
              "    <tr>\n",
              "      <th>mean</th>\n",
              "      <td>6.854788</td>\n",
              "      <td>0.278241</td>\n",
              "      <td>0.334192</td>\n",
              "      <td>6.391415</td>\n",
              "      <td>0.045772</td>\n",
              "      <td>35.308085</td>\n",
              "      <td>138.360657</td>\n",
              "      <td>0.994027</td>\n",
              "      <td>3.188267</td>\n",
              "      <td>0.489847</td>\n",
              "      <td>10.514267</td>\n",
              "      <td>5.877909</td>\n",
              "    </tr>\n",
              "    <tr>\n",
              "      <th>std</th>\n",
              "      <td>0.843868</td>\n",
              "      <td>0.100795</td>\n",
              "      <td>0.121020</td>\n",
              "      <td>5.072058</td>\n",
              "      <td>0.021848</td>\n",
              "      <td>17.007137</td>\n",
              "      <td>42.498065</td>\n",
              "      <td>0.002991</td>\n",
              "      <td>0.151001</td>\n",
              "      <td>0.114126</td>\n",
              "      <td>1.230621</td>\n",
              "      <td>0.885639</td>\n",
              "    </tr>\n",
              "    <tr>\n",
              "      <th>min</th>\n",
              "      <td>3.800000</td>\n",
              "      <td>0.080000</td>\n",
              "      <td>0.000000</td>\n",
              "      <td>0.600000</td>\n",
              "      <td>0.009000</td>\n",
              "      <td>2.000000</td>\n",
              "      <td>9.000000</td>\n",
              "      <td>0.987110</td>\n",
              "      <td>2.720000</td>\n",
              "      <td>0.220000</td>\n",
              "      <td>8.000000</td>\n",
              "      <td>3.000000</td>\n",
              "    </tr>\n",
              "    <tr>\n",
              "      <th>25%</th>\n",
              "      <td>6.300000</td>\n",
              "      <td>0.210000</td>\n",
              "      <td>0.270000</td>\n",
              "      <td>1.700000</td>\n",
              "      <td>0.036000</td>\n",
              "      <td>23.000000</td>\n",
              "      <td>108.000000</td>\n",
              "      <td>0.991723</td>\n",
              "      <td>3.090000</td>\n",
              "      <td>0.410000</td>\n",
              "      <td>9.500000</td>\n",
              "      <td>5.000000</td>\n",
              "    </tr>\n",
              "    <tr>\n",
              "      <th>50%</th>\n",
              "      <td>6.800000</td>\n",
              "      <td>0.260000</td>\n",
              "      <td>0.320000</td>\n",
              "      <td>5.200000</td>\n",
              "      <td>0.043000</td>\n",
              "      <td>34.000000</td>\n",
              "      <td>134.000000</td>\n",
              "      <td>0.993740</td>\n",
              "      <td>3.180000</td>\n",
              "      <td>0.470000</td>\n",
              "      <td>10.400000</td>\n",
              "      <td>6.000000</td>\n",
              "    </tr>\n",
              "    <tr>\n",
              "      <th>75%</th>\n",
              "      <td>7.300000</td>\n",
              "      <td>0.320000</td>\n",
              "      <td>0.390000</td>\n",
              "      <td>9.900000</td>\n",
              "      <td>0.050000</td>\n",
              "      <td>46.000000</td>\n",
              "      <td>167.000000</td>\n",
              "      <td>0.996100</td>\n",
              "      <td>3.280000</td>\n",
              "      <td>0.550000</td>\n",
              "      <td>11.400000</td>\n",
              "      <td>6.000000</td>\n",
              "    </tr>\n",
              "    <tr>\n",
              "      <th>max</th>\n",
              "      <td>14.200000</td>\n",
              "      <td>1.100000</td>\n",
              "      <td>1.660000</td>\n",
              "      <td>65.800000</td>\n",
              "      <td>0.346000</td>\n",
              "      <td>289.000000</td>\n",
              "      <td>440.000000</td>\n",
              "      <td>1.038980</td>\n",
              "      <td>3.820000</td>\n",
              "      <td>1.080000</td>\n",
              "      <td>14.200000</td>\n",
              "      <td>9.000000</td>\n",
              "    </tr>\n",
              "  </tbody>\n",
              "</table>\n",
              "</div>"
            ],
            "text/plain": [
              "       fixed acidity  volatile acidity  ...      alcohol      quality\n",
              "count    4898.000000       4898.000000  ...  4898.000000  4898.000000\n",
              "mean        6.854788          0.278241  ...    10.514267     5.877909\n",
              "std         0.843868          0.100795  ...     1.230621     0.885639\n",
              "min         3.800000          0.080000  ...     8.000000     3.000000\n",
              "25%         6.300000          0.210000  ...     9.500000     5.000000\n",
              "50%         6.800000          0.260000  ...    10.400000     6.000000\n",
              "75%         7.300000          0.320000  ...    11.400000     6.000000\n",
              "max        14.200000          1.100000  ...    14.200000     9.000000\n",
              "\n",
              "[8 rows x 12 columns]"
            ]
          },
          "metadata": {
            "tags": []
          },
          "execution_count": 11
        }
      ]
    },
    {
      "cell_type": "code",
      "metadata": {
        "id": "5PhDKpIowQRv",
        "colab": {
          "base_uri": "https://localhost:8080/",
          "height": 338
        },
        "outputId": "fc352671-c319-4afc-c53a-7a6b49ba7777"
      },
      "source": [
        "# 赤ワインの各変数の基本統計量の確認\n",
        "df_r.describe()"
      ],
      "execution_count": null,
      "outputs": [
        {
          "output_type": "execute_result",
          "data": {
            "text/html": [
              "<div>\n",
              "<style scoped>\n",
              "    .dataframe tbody tr th:only-of-type {\n",
              "        vertical-align: middle;\n",
              "    }\n",
              "\n",
              "    .dataframe tbody tr th {\n",
              "        vertical-align: top;\n",
              "    }\n",
              "\n",
              "    .dataframe thead th {\n",
              "        text-align: right;\n",
              "    }\n",
              "</style>\n",
              "<table border=\"1\" class=\"dataframe\">\n",
              "  <thead>\n",
              "    <tr style=\"text-align: right;\">\n",
              "      <th></th>\n",
              "      <th>fixed acidity</th>\n",
              "      <th>volatile acidity</th>\n",
              "      <th>citric acid</th>\n",
              "      <th>residual sugar</th>\n",
              "      <th>chlorides</th>\n",
              "      <th>free sulfur dioxide</th>\n",
              "      <th>total sulfur dioxide</th>\n",
              "      <th>density</th>\n",
              "      <th>pH</th>\n",
              "      <th>sulphates</th>\n",
              "      <th>alcohol</th>\n",
              "      <th>quality</th>\n",
              "    </tr>\n",
              "  </thead>\n",
              "  <tbody>\n",
              "    <tr>\n",
              "      <th>count</th>\n",
              "      <td>1599.000000</td>\n",
              "      <td>1599.000000</td>\n",
              "      <td>1599.000000</td>\n",
              "      <td>1599.000000</td>\n",
              "      <td>1599.000000</td>\n",
              "      <td>1599.000000</td>\n",
              "      <td>1599.000000</td>\n",
              "      <td>1599.000000</td>\n",
              "      <td>1599.000000</td>\n",
              "      <td>1599.000000</td>\n",
              "      <td>1599.000000</td>\n",
              "      <td>1599.000000</td>\n",
              "    </tr>\n",
              "    <tr>\n",
              "      <th>mean</th>\n",
              "      <td>8.319637</td>\n",
              "      <td>0.527821</td>\n",
              "      <td>0.270976</td>\n",
              "      <td>2.538806</td>\n",
              "      <td>0.087467</td>\n",
              "      <td>15.874922</td>\n",
              "      <td>46.467792</td>\n",
              "      <td>0.996747</td>\n",
              "      <td>3.311113</td>\n",
              "      <td>0.658149</td>\n",
              "      <td>10.422983</td>\n",
              "      <td>5.636023</td>\n",
              "    </tr>\n",
              "    <tr>\n",
              "      <th>std</th>\n",
              "      <td>1.741096</td>\n",
              "      <td>0.179060</td>\n",
              "      <td>0.194801</td>\n",
              "      <td>1.409928</td>\n",
              "      <td>0.047065</td>\n",
              "      <td>10.460157</td>\n",
              "      <td>32.895324</td>\n",
              "      <td>0.001887</td>\n",
              "      <td>0.154386</td>\n",
              "      <td>0.169507</td>\n",
              "      <td>1.065668</td>\n",
              "      <td>0.807569</td>\n",
              "    </tr>\n",
              "    <tr>\n",
              "      <th>min</th>\n",
              "      <td>4.600000</td>\n",
              "      <td>0.120000</td>\n",
              "      <td>0.000000</td>\n",
              "      <td>0.900000</td>\n",
              "      <td>0.012000</td>\n",
              "      <td>1.000000</td>\n",
              "      <td>6.000000</td>\n",
              "      <td>0.990070</td>\n",
              "      <td>2.740000</td>\n",
              "      <td>0.330000</td>\n",
              "      <td>8.400000</td>\n",
              "      <td>3.000000</td>\n",
              "    </tr>\n",
              "    <tr>\n",
              "      <th>25%</th>\n",
              "      <td>7.100000</td>\n",
              "      <td>0.390000</td>\n",
              "      <td>0.090000</td>\n",
              "      <td>1.900000</td>\n",
              "      <td>0.070000</td>\n",
              "      <td>7.000000</td>\n",
              "      <td>22.000000</td>\n",
              "      <td>0.995600</td>\n",
              "      <td>3.210000</td>\n",
              "      <td>0.550000</td>\n",
              "      <td>9.500000</td>\n",
              "      <td>5.000000</td>\n",
              "    </tr>\n",
              "    <tr>\n",
              "      <th>50%</th>\n",
              "      <td>7.900000</td>\n",
              "      <td>0.520000</td>\n",
              "      <td>0.260000</td>\n",
              "      <td>2.200000</td>\n",
              "      <td>0.079000</td>\n",
              "      <td>14.000000</td>\n",
              "      <td>38.000000</td>\n",
              "      <td>0.996750</td>\n",
              "      <td>3.310000</td>\n",
              "      <td>0.620000</td>\n",
              "      <td>10.200000</td>\n",
              "      <td>6.000000</td>\n",
              "    </tr>\n",
              "    <tr>\n",
              "      <th>75%</th>\n",
              "      <td>9.200000</td>\n",
              "      <td>0.640000</td>\n",
              "      <td>0.420000</td>\n",
              "      <td>2.600000</td>\n",
              "      <td>0.090000</td>\n",
              "      <td>21.000000</td>\n",
              "      <td>62.000000</td>\n",
              "      <td>0.997835</td>\n",
              "      <td>3.400000</td>\n",
              "      <td>0.730000</td>\n",
              "      <td>11.100000</td>\n",
              "      <td>6.000000</td>\n",
              "    </tr>\n",
              "    <tr>\n",
              "      <th>max</th>\n",
              "      <td>15.900000</td>\n",
              "      <td>1.580000</td>\n",
              "      <td>1.000000</td>\n",
              "      <td>15.500000</td>\n",
              "      <td>0.611000</td>\n",
              "      <td>72.000000</td>\n",
              "      <td>289.000000</td>\n",
              "      <td>1.003690</td>\n",
              "      <td>4.010000</td>\n",
              "      <td>2.000000</td>\n",
              "      <td>14.900000</td>\n",
              "      <td>8.000000</td>\n",
              "    </tr>\n",
              "  </tbody>\n",
              "</table>\n",
              "</div>"
            ],
            "text/plain": [
              "       fixed acidity  volatile acidity  ...      alcohol      quality\n",
              "count    1599.000000       1599.000000  ...  1599.000000  1599.000000\n",
              "mean        8.319637          0.527821  ...    10.422983     5.636023\n",
              "std         1.741096          0.179060  ...     1.065668     0.807569\n",
              "min         4.600000          0.120000  ...     8.400000     3.000000\n",
              "25%         7.100000          0.390000  ...     9.500000     5.000000\n",
              "50%         7.900000          0.520000  ...    10.200000     6.000000\n",
              "75%         9.200000          0.640000  ...    11.100000     6.000000\n",
              "max        15.900000          1.580000  ...    14.900000     8.000000\n",
              "\n",
              "[8 rows x 12 columns]"
            ]
          },
          "metadata": {
            "tags": []
          },
          "execution_count": 12
        }
      ]
    },
    {
      "cell_type": "markdown",
      "metadata": {
        "id": "gMslqdV-wQRw"
      },
      "source": [
        "\n",
        "# ＜１変数ずつグラフ化して傾向を確認してみる＞"
      ]
    },
    {
      "cell_type": "code",
      "metadata": {
        "id": "NI6qLmlowQRw",
        "colab": {
          "base_uri": "https://localhost:8080/",
          "height": 318
        },
        "outputId": "41340872-fd9e-4fb5-d44b-2cd8715b279f"
      },
      "source": [
        "# ■可視化によるデータ観察を実施していきます\n",
        "# まずは、ヒストグラム（度数分布）を作成し、今回予測したい品質のデータの分布を確認します\n",
        "# 各変数のデータの傾向の確認には、ヒストグラムを用います\n",
        "\n",
        "# 図示の方法として、今回はmatplotlibのhistメソッドを使います\n",
        "plt.hist(df_r[\"quality\"])"
      ],
      "execution_count": null,
      "outputs": [
        {
          "output_type": "execute_result",
          "data": {
            "text/plain": [
              "(array([ 10.,   0.,  53.,   0., 681.,   0., 638.,   0., 199.,  18.]),\n",
              " array([3. , 3.5, 4. , 4.5, 5. , 5.5, 6. , 6.5, 7. , 7.5, 8. ]),\n",
              " <a list of 10 Patch objects>)"
            ]
          },
          "metadata": {
            "tags": []
          },
          "execution_count": 13
        },
        {
          "output_type": "display_data",
          "data": {
            "image/png": "[encoded data removed]",
            "text/plain": [
              "<Figure size 432x288 with 1 Axes>"
            ]
          },
          "metadata": {
            "tags": [],
            "needs_background": "light"
          }
        }
      ]
    },
    {
      "cell_type": "code",
      "metadata": {
        "id": "bAQLw4DrwQRw"
      },
      "source": [
        "# ⇒ 赤ワインの品質のヒストグラムでは、品質5と6の値が一番多いのが分かる"
      ],
      "execution_count": null,
      "outputs": []
    },
    {
      "cell_type": "code",
      "metadata": {
        "id": "n6eJ6qqcwQRw",
        "colab": {
          "base_uri": "https://localhost:8080/",
          "height": 297
        },
        "outputId": "768a3557-4305-4297-cff6-4928f462a746"
      },
      "source": [
        "# x軸を0～10にし、ヒストグラムの区切り幅を1にし、グラムの色を赤にする\n",
        "# x軸のラベルとy軸のラベルを設定する\n",
        "plt.hist(df_r[\"quality\"], bins=10, range=(0, 10), color=\"red\")\n",
        "plt.xlabel(\"Quality\")\n",
        "plt.ylabel(\"Count\")"
      ],
      "execution_count": null,
      "outputs": [
        {
          "output_type": "execute_result",
          "data": {
            "text/plain": [
              "Text(0, 0.5, 'Count')"
            ]
          },
          "metadata": {
            "tags": []
          },
          "execution_count": 18
        },
        {
          "output_type": "display_data",
          "data": {
            "image/png": "[encoded data removed]",
            "text/plain": [
              "<Figure size 432x288 with 1 Axes>"
            ]
          },
          "metadata": {
            "tags": [],
            "needs_background": "light"
          }
        }
      ]
    },
    {
      "cell_type": "code",
      "metadata": {
        "id": "JqvkCWYRwQRw",
        "colab": {
          "base_uri": "https://localhost:8080/"
        },
        "outputId": "c96438be-df66-4310-98f8-3ffe29d20dd6"
      },
      "source": [
        "# 件数だけを集計するなら、pandasのvalue_countsで可能\n",
        "df_r[\"quality\"].value_counts()"
      ],
      "execution_count": null,
      "outputs": [
        {
          "output_type": "execute_result",
          "data": {
            "text/plain": [
              "5    681\n",
              "6    638\n",
              "7    199\n",
              "4     53\n",
              "8     18\n",
              "3     10\n",
              "Name: quality, dtype: int64"
            ]
          },
          "metadata": {
            "tags": []
          },
          "execution_count": 19
        }
      ]
    },
    {
      "cell_type": "code",
      "metadata": {
        "id": "068LCtGLwQRx",
        "colab": {
          "base_uri": "https://localhost:8080/",
          "height": 297
        },
        "outputId": "6282d16f-37f6-4c47-a94f-4c6b9092211a"
      },
      "source": [
        "# 白ワインでも同様のヒストグラムを書くと、品質6が一番多いのが分かる\n",
        "plt.hist(df_w[\"quality\"], bins=10, range=(0, 10), color=\"blue\")\n",
        "plt.xlabel(\"Quality\")\n",
        "plt.ylabel(\"Count\")"
      ],
      "execution_count": null,
      "outputs": [
        {
          "output_type": "execute_result",
          "data": {
            "text/plain": [
              "Text(0, 0.5, 'Count')"
            ]
          },
          "metadata": {
            "tags": []
          },
          "execution_count": 20
        },
        {
          "output_type": "display_data",
          "data": {
            "image/png": "[encoded data removed]",
            "text/plain": [
              "<Figure size 432x288 with 1 Axes>"
            ]
          },
          "metadata": {
            "tags": [],
            "needs_background": "light"
          }
        }
      ]
    },
    {
      "cell_type": "code",
      "metadata": {
        "id": "2an7YO2DwQRx",
        "colab": {
          "base_uri": "https://localhost:8080/",
          "height": 297
        },
        "outputId": "219ba830-0552-43c3-b5c3-5c410793f058"
      },
      "source": [
        "# ２つのヒストグラムを重ねたグラムも作成可能\n",
        "# 白ワインと赤ワインのヒストグラムを重ねたグラムを作成\n",
        "\n",
        "plt.hist(df_r[\"quality\"], bins=10, range=(0, 10), alpha=0.5, color=\"red\", label=\"Red wine\")\n",
        "plt.hist(df_w[\"quality\"], bins=10, range=(0, 10), alpha=0.5, color=\"blue\", label=\"White Wine\")\n",
        "plt.xlabel(\"Quality\")\n",
        "plt.ylabel(\"Count\")\n",
        "plt.legend(loc='upper left')"
      ],
      "execution_count": null,
      "outputs": [
        {
          "output_type": "execute_result",
          "data": {
            "text/plain": [
              "<matplotlib.legend.Legend at 0x7fa96765e410>"
            ]
          },
          "metadata": {
            "tags": []
          },
          "execution_count": 27
        },
        {
          "output_type": "display_data",
          "data": {
            "image/png": "[encoded data removed]",
            "text/plain": [
              "<Figure size 432x288 with 1 Axes>"
            ]
          },
          "metadata": {
            "tags": [],
            "needs_background": "light"
          }
        }
      ]
    },
    {
      "cell_type": "code",
      "metadata": {
        "id": "cN1aTYWBwQRx",
        "colab": {
          "base_uri": "https://localhost:8080/",
          "height": 282
        },
        "outputId": "7b3d27e1-996d-4845-8b67-d1b314c39b7d"
      },
      "source": [
        "# ヒストグラムの作成は、pandasのhist()メソッドでも作成可能\n",
        "df_r[\"quality\"].hist()"
      ],
      "execution_count": null,
      "outputs": [
        {
          "output_type": "execute_result",
          "data": {
            "text/plain": [
              "<matplotlib.axes._subplots.AxesSubplot at 0x7fa9674c2090>"
            ]
          },
          "metadata": {
            "tags": []
          },
          "execution_count": 28
        },
        {
          "output_type": "display_data",
          "data": {
            "image/png": "[encoded data removed]",
            "text/plain": [
              "<Figure size 432x288 with 1 Axes>"
            ]
          },
          "metadata": {
            "tags": [],
            "needs_background": "light"
          }
        }
      ]
    },
    {
      "cell_type": "code",
      "metadata": {
        "id": "RmmyM2KhwQRx",
        "colab": {
          "base_uri": "https://localhost:8080/",
          "height": 402
        },
        "outputId": "307445e8-a8ea-4d9c-cd0e-52f1920dcf59"
      },
      "source": [
        "# 白ワインについて、品質以外の変数のヒストグラムの確認を一度に実施\n",
        "# 1つ目から4つ目までの変数を一度に確認してみる\n",
        "\n",
        "# pandasを用いて、行は全て、列は1つ目から4つ目までのみ抽出\n",
        "df_w.iloc[:, 0:4]"
      ],
      "execution_count": null,
      "outputs": [
        {
          "output_type": "execute_result",
          "data": {
            "text/html": [
              "<div>\n",
              "<style scoped>\n",
              "    .dataframe tbody tr th:only-of-type {\n",
              "        vertical-align: middle;\n",
              "    }\n",
              "\n",
              "    .dataframe tbody tr th {\n",
              "        vertical-align: top;\n",
              "    }\n",
              "\n",
              "    .dataframe thead th {\n",
              "        text-align: right;\n",
              "    }\n",
              "</style>\n",
              "<table border=\"1\" class=\"dataframe\">\n",
              "  <thead>\n",
              "    <tr style=\"text-align: right;\">\n",
              "      <th></th>\n",
              "      <th>fixed acidity</th>\n",
              "      <th>volatile acidity</th>\n",
              "      <th>citric acid</th>\n",
              "      <th>residual sugar</th>\n",
              "    </tr>\n",
              "  </thead>\n",
              "  <tbody>\n",
              "    <tr>\n",
              "      <th>0</th>\n",
              "      <td>7.0</td>\n",
              "      <td>0.27</td>\n",
              "      <td>0.36</td>\n",
              "      <td>20.7</td>\n",
              "    </tr>\n",
              "    <tr>\n",
              "      <th>1</th>\n",
              "      <td>6.3</td>\n",
              "      <td>0.30</td>\n",
              "      <td>0.34</td>\n",
              "      <td>1.6</td>\n",
              "    </tr>\n",
              "    <tr>\n",
              "      <th>2</th>\n",
              "      <td>8.1</td>\n",
              "      <td>0.28</td>\n",
              "      <td>0.40</td>\n",
              "      <td>6.9</td>\n",
              "    </tr>\n",
              "    <tr>\n",
              "      <th>3</th>\n",
              "      <td>7.2</td>\n",
              "      <td>0.23</td>\n",
              "      <td>0.32</td>\n",
              "      <td>8.5</td>\n",
              "    </tr>\n",
              "    <tr>\n",
              "      <th>4</th>\n",
              "      <td>7.2</td>\n",
              "      <td>0.23</td>\n",
              "      <td>0.32</td>\n",
              "      <td>8.5</td>\n",
              "    </tr>\n",
              "    <tr>\n",
              "      <th>...</th>\n",
              "      <td>...</td>\n",
              "      <td>...</td>\n",
              "      <td>...</td>\n",
              "      <td>...</td>\n",
              "    </tr>\n",
              "    <tr>\n",
              "      <th>4893</th>\n",
              "      <td>6.2</td>\n",
              "      <td>0.21</td>\n",
              "      <td>0.29</td>\n",
              "      <td>1.6</td>\n",
              "    </tr>\n",
              "    <tr>\n",
              "      <th>4894</th>\n",
              "      <td>6.6</td>\n",
              "      <td>0.32</td>\n",
              "      <td>0.36</td>\n",
              "      <td>8.0</td>\n",
              "    </tr>\n",
              "    <tr>\n",
              "      <th>4895</th>\n",
              "      <td>6.5</td>\n",
              "      <td>0.24</td>\n",
              "      <td>0.19</td>\n",
              "      <td>1.2</td>\n",
              "    </tr>\n",
              "    <tr>\n",
              "      <th>4896</th>\n",
              "      <td>5.5</td>\n",
              "      <td>0.29</td>\n",
              "      <td>0.30</td>\n",
              "      <td>1.1</td>\n",
              "    </tr>\n",
              "    <tr>\n",
              "      <th>4897</th>\n",
              "      <td>6.0</td>\n",
              "      <td>0.21</td>\n",
              "      <td>0.38</td>\n",
              "      <td>0.8</td>\n",
              "    </tr>\n",
              "  </tbody>\n",
              "</table>\n",
              "<p>4898 rows × 4 columns</p>\n",
              "</div>"
            ],
            "text/plain": [
              "      fixed acidity  volatile acidity  citric acid  residual sugar\n",
              "0               7.0              0.27         0.36            20.7\n",
              "1               6.3              0.30         0.34             1.6\n",
              "2               8.1              0.28         0.40             6.9\n",
              "3               7.2              0.23         0.32             8.5\n",
              "4               7.2              0.23         0.32             8.5\n",
              "...             ...               ...          ...             ...\n",
              "4893            6.2              0.21         0.29             1.6\n",
              "4894            6.6              0.32         0.36             8.0\n",
              "4895            6.5              0.24         0.19             1.2\n",
              "4896            5.5              0.29         0.30             1.1\n",
              "4897            6.0              0.21         0.38             0.8\n",
              "\n",
              "[4898 rows x 4 columns]"
            ]
          },
          "metadata": {
            "tags": []
          },
          "execution_count": 29
        }
      ]
    },
    {
      "cell_type": "code",
      "metadata": {
        "id": "uLOoQrx9wQRx",
        "colab": {
          "base_uri": "https://localhost:8080/",
          "height": 369
        },
        "outputId": "367bdc62-d7c5-40d0-8b2d-83b0928dac6d"
      },
      "source": [
        "# 一度に4つのヒストグラムを作成する\n",
        "df_w.iloc[:,0:4].hist()"
      ],
      "execution_count": null,
      "outputs": [
        {
          "output_type": "execute_result",
          "data": {
            "text/plain": [
              "array([[<matplotlib.axes._subplots.AxesSubplot object at 0x7fa966ff3f50>,\n",
              "        <matplotlib.axes._subplots.AxesSubplot object at 0x7fa966ffcf90>],\n",
              "       [<matplotlib.axes._subplots.AxesSubplot object at 0x7fa966f6bcd0>,\n",
              "        <matplotlib.axes._subplots.AxesSubplot object at 0x7fa966f2b390>]],\n",
              "      dtype=object)"
            ]
          },
          "metadata": {
            "tags": []
          },
          "execution_count": 30
        },
        {
          "output_type": "display_data",
          "data": {
            "image/png": "[encoded data removed]",
            "text/plain": [
              "<Figure size 432x288 with 4 Axes>"
            ]
          },
          "metadata": {
            "tags": [],
            "needs_background": "light"
          }
        }
      ]
    },
    {
      "cell_type": "code",
      "metadata": {
        "id": "O5VTcq2uwQRx"
      },
      "source": [
        "# ⇒ fixed acidity、volatile acidity、citric acitは正規分布のような形をしている\n",
        "# ⇒ residualは0-10が一番多く、徐々に減っている"
      ],
      "execution_count": null,
      "outputs": []
    },
    {
      "cell_type": "markdown",
      "metadata": {
        "id": "wm0LzLvbwQRy"
      },
      "source": [
        "\n",
        "# ＜散布図を描いて、変数間の関係性を確認する＞\n",
        "## 品質と関係のある変数に当たりをつける"
      ]
    },
    {
      "cell_type": "code",
      "metadata": {
        "id": "KG2YC-5lwQRy",
        "colab": {
          "base_uri": "https://localhost:8080/",
          "height": 297
        },
        "outputId": "1a391df1-ef68-422f-aba2-87c99e418211"
      },
      "source": [
        "# ■可視化によるデータ観察を実施していきます\n",
        "# 次は、散布図を作成し、今回予測したい品質とその他の変数との関係性を確認します\n",
        "\n",
        "# 図示の方法として、今回はmatplotlibのscatterメソッドを使います\n",
        "# 引数の一つ目がx軸の値、二つ目がy軸の値\n",
        "# alphaは点の透過度を調整するパラメータ\n",
        "# アルコールと品質の散布図を作成します\n",
        "plt.scatter(df_r[\"alcohol\"], df_r[\"quality\"], alpha=0.5)\n",
        "plt.xlabel(\"Alcohol\")\n",
        "plt.ylabel(\"Quality\")"
      ],
      "execution_count": null,
      "outputs": [
        {
          "output_type": "execute_result",
          "data": {
            "text/plain": [
              "Text(0, 0.5, 'Quality')"
            ]
          },
          "metadata": {
            "tags": []
          },
          "execution_count": 32
        },
        {
          "output_type": "display_data",
          "data": {
            "image/png": "[encoded data removed]",
            "text/plain": [
              "<Figure size 432x288 with 1 Axes>"
            ]
          },
          "metadata": {
            "tags": [],
            "needs_background": "light"
          }
        }
      ]
    },
    {
      "cell_type": "code",
      "metadata": {
        "id": "nw7PcWJRwQRy"
      },
      "source": [
        "# ⇒ アルコール濃度が高くなると、徐々に品質も高くなるのが確認できる\n",
        "# ⇒ アルコール濃度と品質には正の相関が確認できる"
      ],
      "execution_count": null,
      "outputs": []
    },
    {
      "cell_type": "code",
      "metadata": {
        "id": "yQvcQfBXwQRy",
        "colab": {
          "base_uri": "https://localhost:8080/",
          "height": 297
        },
        "outputId": "4a72f243-d5a6-434a-ca48-ea770494735b"
      },
      "source": [
        "# 次に、品質と残留糖分濃度の関係性を確認してみます\n",
        "# x軸を残留糖分濃度、y軸を品質とした散布図を作成\n",
        "# ⇒ 残留糖分濃度と品質には明確な相関関係は見られない\n",
        "\n",
        "plt.scatter(df_r[\"residual sugar\"], df_r[\"quality\"], alpha=0.5)\n",
        "plt.xlabel(\"Residual sugar\")\n",
        "plt.ylabel(\"Quality\")"
      ],
      "execution_count": null,
      "outputs": [
        {
          "output_type": "execute_result",
          "data": {
            "text/plain": [
              "Text(0, 0.5, 'Quality')"
            ]
          },
          "metadata": {
            "tags": []
          },
          "execution_count": 34
        },
        {
          "output_type": "display_data",
          "data": {
            "image/png": "[encoded data removed]",
            "text/plain": [
              "<Figure size 432x288 with 1 Axes>"
            ]
          },
          "metadata": {
            "tags": [],
            "needs_background": "light"
          }
        }
      ]
    },
    {
      "cell_type": "code",
      "metadata": {
        "id": "a4EWI_q7wQRy",
        "colab": {
          "base_uri": "https://localhost:8080/",
          "height": 465
        },
        "outputId": "9e3c2d17-305a-4f42-93e6-bf7561409363"
      },
      "source": [
        "# 一度に複数の組み合わせに関して、散布図を作成することも可能です\n",
        "# pandasのscatter_matrixメソッドを使用（散布図の行列という意味）\n",
        "# markerでプロットの形式を指定（今回は○）\n",
        "\n",
        "pd.plotting.scatter_matrix(df_r[[\"quality\", \"alcohol\", \"residual sugar\"]], marker=\"o\")"
      ],
      "execution_count": null,
      "outputs": [
        {
          "output_type": "execute_result",
          "data": {
            "text/plain": [
              "array([[<matplotlib.axes._subplots.AxesSubplot object at 0x7fa966d33f10>,\n",
              "        <matplotlib.axes._subplots.AxesSubplot object at 0x7fa966d33a90>,\n",
              "        <matplotlib.axes._subplots.AxesSubplot object at 0x7fa966c9a310>],\n",
              "       [<matplotlib.axes._subplots.AxesSubplot object at 0x7fa966ccd990>,\n",
              "        <matplotlib.axes._subplots.AxesSubplot object at 0x7fa966c84fd0>,\n",
              "        <matplotlib.axes._subplots.AxesSubplot object at 0x7fa966c476d0>],\n",
              "       [<matplotlib.axes._subplots.AxesSubplot object at 0x7fa966bfadd0>,\n",
              "        <matplotlib.axes._subplots.AxesSubplot object at 0x7fa966bbe3d0>,\n",
              "        <matplotlib.axes._subplots.AxesSubplot object at 0x7fa966bbe410>]],\n",
              "      dtype=object)"
            ]
          },
          "metadata": {
            "tags": []
          },
          "execution_count": 35
        },
        {
          "output_type": "display_data",
          "data": {
            "image/png": "[encoded data removed]",
            "text/plain": [
              "<Figure size 432x288 with 9 Axes>"
            ]
          },
          "metadata": {
            "tags": [],
            "needs_background": "light"
          }
        }
      ]
    },
    {
      "cell_type": "code",
      "metadata": {
        "id": "7nZmKqd-wQRy",
        "colab": {
          "base_uri": "https://localhost:8080/",
          "height": 574
        },
        "outputId": "4728edbf-e5fc-478e-c418-53edf156469d"
      },
      "source": [
        "# ■　相関係数のヒートマップの作成により、一度に全ての変数の関係性を確認していきます\n",
        "# 相関係数を用いることにより、数値的に関係性を把握する （相関行列の作成）\n",
        "# （1～-1の値を取り、1だと正の相関、-1だと負の相関、0だと相関ない）\n",
        "\n",
        "# 相関係数は、pandasのcorr()メソッドで算出可能です\n",
        "\n",
        "cor_r = df_r.corr()\n",
        "cor_r"
      ],
      "execution_count": null,
      "outputs": [
        {
          "output_type": "execute_result",
          "data": {
            "text/html": [
              "<div>\n",
              "<style scoped>\n",
              "    .dataframe tbody tr th:only-of-type {\n",
              "        vertical-align: middle;\n",
              "    }\n",
              "\n",
              "    .dataframe tbody tr th {\n",
              "        vertical-align: top;\n",
              "    }\n",
              "\n",
              "    .dataframe thead th {\n",
              "        text-align: right;\n",
              "    }\n",
              "</style>\n",
              "<table border=\"1\" class=\"dataframe\">\n",
              "  <thead>\n",
              "    <tr style=\"text-align: right;\">\n",
              "      <th></th>\n",
              "      <th>fixed acidity</th>\n",
              "      <th>volatile acidity</th>\n",
              "      <th>citric acid</th>\n",
              "      <th>residual sugar</th>\n",
              "      <th>chlorides</th>\n",
              "      <th>free sulfur dioxide</th>\n",
              "      <th>total sulfur dioxide</th>\n",
              "      <th>density</th>\n",
              "      <th>pH</th>\n",
              "      <th>sulphates</th>\n",
              "      <th>alcohol</th>\n",
              "      <th>quality</th>\n",
              "    </tr>\n",
              "  </thead>\n",
              "  <tbody>\n",
              "    <tr>\n",
              "      <th>fixed acidity</th>\n",
              "      <td>1.000000</td>\n",
              "      <td>-0.256131</td>\n",
              "      <td>0.671703</td>\n",
              "      <td>0.114777</td>\n",
              "      <td>0.093705</td>\n",
              "      <td>-0.153794</td>\n",
              "      <td>-0.113181</td>\n",
              "      <td>0.668047</td>\n",
              "      <td>-0.682978</td>\n",
              "      <td>0.183006</td>\n",
              "      <td>-0.061668</td>\n",
              "      <td>0.124052</td>\n",
              "    </tr>\n",
              "    <tr>\n",
              "      <th>volatile acidity</th>\n",
              "      <td>-0.256131</td>\n",
              "      <td>1.000000</td>\n",
              "      <td>-0.552496</td>\n",
              "      <td>0.001918</td>\n",
              "      <td>0.061298</td>\n",
              "      <td>-0.010504</td>\n",
              "      <td>0.076470</td>\n",
              "      <td>0.022026</td>\n",
              "      <td>0.234937</td>\n",
              "      <td>-0.260987</td>\n",
              "      <td>-0.202288</td>\n",
              "      <td>-0.390558</td>\n",
              "    </tr>\n",
              "    <tr>\n",
              "      <th>citric acid</th>\n",
              "      <td>0.671703</td>\n",
              "      <td>-0.552496</td>\n",
              "      <td>1.000000</td>\n",
              "      <td>0.143577</td>\n",
              "      <td>0.203823</td>\n",
              "      <td>-0.060978</td>\n",
              "      <td>0.035533</td>\n",
              "      <td>0.364947</td>\n",
              "      <td>-0.541904</td>\n",
              "      <td>0.312770</td>\n",
              "      <td>0.109903</td>\n",
              "      <td>0.226373</td>\n",
              "    </tr>\n",
              "    <tr>\n",
              "      <th>residual sugar</th>\n",
              "      <td>0.114777</td>\n",
              "      <td>0.001918</td>\n",
              "      <td>0.143577</td>\n",
              "      <td>1.000000</td>\n",
              "      <td>0.055610</td>\n",
              "      <td>0.187049</td>\n",
              "      <td>0.203028</td>\n",
              "      <td>0.355283</td>\n",
              "      <td>-0.085652</td>\n",
              "      <td>0.005527</td>\n",
              "      <td>0.042075</td>\n",
              "      <td>0.013732</td>\n",
              "    </tr>\n",
              "    <tr>\n",
              "      <th>chlorides</th>\n",
              "      <td>0.093705</td>\n",
              "      <td>0.061298</td>\n",
              "      <td>0.203823</td>\n",
              "      <td>0.055610</td>\n",
              "      <td>1.000000</td>\n",
              "      <td>0.005562</td>\n",
              "      <td>0.047400</td>\n",
              "      <td>0.200632</td>\n",
              "      <td>-0.265026</td>\n",
              "      <td>0.371260</td>\n",
              "      <td>-0.221141</td>\n",
              "      <td>-0.128907</td>\n",
              "    </tr>\n",
              "    <tr>\n",
              "      <th>free sulfur dioxide</th>\n",
              "      <td>-0.153794</td>\n",
              "      <td>-0.010504</td>\n",
              "      <td>-0.060978</td>\n",
              "      <td>0.187049</td>\n",
              "      <td>0.005562</td>\n",
              "      <td>1.000000</td>\n",
              "      <td>0.667666</td>\n",
              "      <td>-0.021946</td>\n",
              "      <td>0.070377</td>\n",
              "      <td>0.051658</td>\n",
              "      <td>-0.069408</td>\n",
              "      <td>-0.050656</td>\n",
              "    </tr>\n",
              "    <tr>\n",
              "      <th>total sulfur dioxide</th>\n",
              "      <td>-0.113181</td>\n",
              "      <td>0.076470</td>\n",
              "      <td>0.035533</td>\n",
              "      <td>0.203028</td>\n",
              "      <td>0.047400</td>\n",
              "      <td>0.667666</td>\n",
              "      <td>1.000000</td>\n",
              "      <td>0.071269</td>\n",
              "      <td>-0.066495</td>\n",
              "      <td>0.042947</td>\n",
              "      <td>-0.205654</td>\n",
              "      <td>-0.185100</td>\n",
              "    </tr>\n",
              "    <tr>\n",
              "      <th>density</th>\n",
              "      <td>0.668047</td>\n",
              "      <td>0.022026</td>\n",
              "      <td>0.364947</td>\n",
              "      <td>0.355283</td>\n",
              "      <td>0.200632</td>\n",
              "      <td>-0.021946</td>\n",
              "      <td>0.071269</td>\n",
              "      <td>1.000000</td>\n",
              "      <td>-0.341699</td>\n",
              "      <td>0.148506</td>\n",
              "      <td>-0.496180</td>\n",
              "      <td>-0.174919</td>\n",
              "    </tr>\n",
              "    <tr>\n",
              "      <th>pH</th>\n",
              "      <td>-0.682978</td>\n",
              "      <td>0.234937</td>\n",
              "      <td>-0.541904</td>\n",
              "      <td>-0.085652</td>\n",
              "      <td>-0.265026</td>\n",
              "      <td>0.070377</td>\n",
              "      <td>-0.066495</td>\n",
              "      <td>-0.341699</td>\n",
              "      <td>1.000000</td>\n",
              "      <td>-0.196648</td>\n",
              "      <td>0.205633</td>\n",
              "      <td>-0.057731</td>\n",
              "    </tr>\n",
              "    <tr>\n",
              "      <th>sulphates</th>\n",
              "      <td>0.183006</td>\n",
              "      <td>-0.260987</td>\n",
              "      <td>0.312770</td>\n",
              "      <td>0.005527</td>\n",
              "      <td>0.371260</td>\n",
              "      <td>0.051658</td>\n",
              "      <td>0.042947</td>\n",
              "      <td>0.148506</td>\n",
              "      <td>-0.196648</td>\n",
              "      <td>1.000000</td>\n",
              "      <td>0.093595</td>\n",
              "      <td>0.251397</td>\n",
              "    </tr>\n",
              "    <tr>\n",
              "      <th>alcohol</th>\n",
              "      <td>-0.061668</td>\n",
              "      <td>-0.202288</td>\n",
              "      <td>0.109903</td>\n",
              "      <td>0.042075</td>\n",
              "      <td>-0.221141</td>\n",
              "      <td>-0.069408</td>\n",
              "      <td>-0.205654</td>\n",
              "      <td>-0.496180</td>\n",
              "      <td>0.205633</td>\n",
              "      <td>0.093595</td>\n",
              "      <td>1.000000</td>\n",
              "      <td>0.476166</td>\n",
              "    </tr>\n",
              "    <tr>\n",
              "      <th>quality</th>\n",
              "      <td>0.124052</td>\n",
              "      <td>-0.390558</td>\n",
              "      <td>0.226373</td>\n",
              "      <td>0.013732</td>\n",
              "      <td>-0.128907</td>\n",
              "      <td>-0.050656</td>\n",
              "      <td>-0.185100</td>\n",
              "      <td>-0.174919</td>\n",
              "      <td>-0.057731</td>\n",
              "      <td>0.251397</td>\n",
              "      <td>0.476166</td>\n",
              "      <td>1.000000</td>\n",
              "    </tr>\n",
              "  </tbody>\n",
              "</table>\n",
              "</div>"
            ],
            "text/plain": [
              "                      fixed acidity  volatile acidity  ...   alcohol   quality\n",
              "fixed acidity              1.000000         -0.256131  ... -0.061668  0.124052\n",
              "volatile acidity          -0.256131          1.000000  ... -0.202288 -0.390558\n",
              "citric acid                0.671703         -0.552496  ...  0.109903  0.226373\n",
              "residual sugar             0.114777          0.001918  ...  0.042075  0.013732\n",
              "chlorides                  0.093705          0.061298  ... -0.221141 -0.128907\n",
              "free sulfur dioxide       -0.153794         -0.010504  ... -0.069408 -0.050656\n",
              "total sulfur dioxide      -0.113181          0.076470  ... -0.205654 -0.185100\n",
              "density                    0.668047          0.022026  ... -0.496180 -0.174919\n",
              "pH                        -0.682978          0.234937  ...  0.205633 -0.057731\n",
              "sulphates                  0.183006         -0.260987  ...  0.093595  0.251397\n",
              "alcohol                   -0.061668         -0.202288  ...  1.000000  0.476166\n",
              "quality                    0.124052         -0.390558  ...  0.476166  1.000000\n",
              "\n",
              "[12 rows x 12 columns]"
            ]
          },
          "metadata": {
            "tags": []
          },
          "execution_count": 36
        }
      ]
    },
    {
      "cell_type": "code",
      "metadata": {
        "id": "acoYenwJwQRz"
      },
      "source": [
        "# ⇒ 対角線上は、自分に対する相関のため必ず1になる\n",
        "# ⇒ qualityとalcoholの相関係数は0.476166である。散布図で確認したとおり、僅かに正の相関が見られる"
      ],
      "execution_count": null,
      "outputs": []
    },
    {
      "cell_type": "code",
      "metadata": {
        "id": "baCkDzIqwQRz",
        "colab": {
          "base_uri": "https://localhost:8080/",
          "height": 691
        },
        "outputId": "5a16cc7f-df21-4c7c-a9ef-a32a5cc9bf9d"
      },
      "source": [
        "# 次に、相関行列をヒートマップで可視化し、より直感的に理解しやすくします\n",
        "# ヒートマップはmatplotlibのimshowメソッドを使用します\n",
        "\n",
        "plt.imshow(cor_r, interpolation=\"none\")\n",
        "plt.colorbar()\n",
        "plt.xticks(range(len(cor_r)), cor_r.columns)\n",
        "plt.yticks(range(len(cor_r)), cor_r.columns)"
      ],
      "execution_count": null,
      "outputs": [
        {
          "output_type": "execute_result",
          "data": {
            "text/plain": [
              "([<matplotlib.axis.YTick at 0x7fa966a35490>,\n",
              "  <matplotlib.axis.YTick at 0x7fa966d5e710>,\n",
              "  <matplotlib.axis.YTick at 0x7fa966da8810>,\n",
              "  <matplotlib.axis.YTick at 0x7fa9669cfc10>,\n",
              "  <matplotlib.axis.YTick at 0x7fa9669d65d0>,\n",
              "  <matplotlib.axis.YTick at 0x7fa9669d6b10>,\n",
              "  <matplotlib.axis.YTick at 0x7fa9669d6d50>,\n",
              "  <matplotlib.axis.YTick at 0x7fa96695f610>,\n",
              "  <matplotlib.axis.YTick at 0x7fa9669d61d0>,\n",
              "  <matplotlib.axis.YTick at 0x7fa9669cf150>,\n",
              "  <matplotlib.axis.YTick at 0x7fa96695fa10>,\n",
              "  <matplotlib.axis.YTick at 0x7fa96695f110>],\n",
              " [Text(0, 0, 'fixed acidity'),\n",
              "  Text(0, 0, 'volatile acidity'),\n",
              "  Text(0, 0, 'citric acid'),\n",
              "  Text(0, 0, 'residual sugar'),\n",
              "  Text(0, 0, 'chlorides'),\n",
              "  Text(0, 0, 'free sulfur dioxide'),\n",
              "  Text(0, 0, 'total sulfur dioxide'),\n",
              "  Text(0, 0, 'density'),\n",
              "  Text(0, 0, 'pH'),\n",
              "  Text(0, 0, 'sulphates'),\n",
              "  Text(0, 0, 'alcohol'),\n",
              "  Text(0, 0, 'quality')])"
            ]
          },
          "metadata": {
            "tags": []
          },
          "execution_count": 38
        },
        {
          "output_type": "display_data",
          "data": {
            "image/png": "[encoded data removed]",
            "text/plain": [
              "<Figure size 432x288 with 2 Axes>"
            ]
          },
          "metadata": {
            "tags": [],
            "needs_background": "light"
          }
        }
      ]
    },
    {
      "cell_type": "code",
      "metadata": {
        "id": "lLxZbVvswQRz"
      },
      "source": [
        "# ⇒ qualityとalcoholは黄緑色と、全体の中では高いのが分かる\n",
        "# ⇒ fixed acidityとpHとが濃い青で、負の相関が見られる（相関係数:-0.68）"
      ],
      "execution_count": null,
      "outputs": []
    },
    {
      "cell_type": "code",
      "metadata": {
        "id": "7twjtKO2wQRz",
        "colab": {
          "base_uri": "https://localhost:8080/",
          "height": 297
        },
        "outputId": "a222f064-1e33-4584-964c-47256e3724ce"
      },
      "source": [
        "# ちなみに、fixed acidityとpHの負の相関を散布図で確認してみると、、、\n",
        "plt.scatter(df_r[\"fixed acidity\"], df_r[\"pH\"])\n",
        "plt.xlabel(\"fixed acidity\")\n",
        "plt.ylabel(\"pH\")"
      ],
      "execution_count": null,
      "outputs": [
        {
          "output_type": "execute_result",
          "data": {
            "text/plain": [
              "Text(0, 0.5, 'pH')"
            ]
          },
          "metadata": {
            "tags": []
          },
          "execution_count": 40
        },
        {
          "output_type": "display_data",
          "data": {
            "image/png": "[encoded data removed]",
            "text/plain": [
              "<Figure size 432x288 with 1 Axes>"
            ]
          },
          "metadata": {
            "tags": [],
            "needs_background": "light"
          }
        }
      ]
    },
    {
      "cell_type": "code",
      "metadata": {
        "id": "KpRxrCRrwQRz"
      },
      "source": [
        "# ⇒ fixed acidityが増えるに従いpHが減少しており、負の相関が確かに確認できます"
      ],
      "execution_count": null,
      "outputs": []
    },
    {
      "cell_type": "markdown",
      "metadata": {
        "id": "aRqJg8qCwQRz"
      },
      "source": [
        "## ===========================================================\n",
        "## 　機械学習による予測の実施\n",
        "## ===========================================================\n"
      ]
    },
    {
      "cell_type": "code",
      "metadata": {
        "id": "3o5XPjccwQR0"
      },
      "source": [
        "# ここからは、実際に機械学習を使った数値の予測を実施していきます\n",
        "# 今回は、最も基本的な手法である重回帰分析を用います"
      ],
      "execution_count": null,
      "outputs": []
    },
    {
      "cell_type": "markdown",
      "metadata": {
        "id": "CT9Dz1LwwQR0"
      },
      "source": [
        "### 重回帰分析による予測"
      ]
    },
    {
      "cell_type": "code",
      "metadata": {
        "id": "E-q8DByswQR0"
      },
      "source": [
        "# まずは、重回帰分析による数値予測を実施していきます。\n",
        "# pythonには、標準的な機械学習の手法や処理をメソッドとして含んだ便利なパッケージである「scikit-learn」が存在します\n",
        "\n",
        "# scikit-learnをimportします\n",
        "import sklearn"
      ],
      "execution_count": null,
      "outputs": []
    },
    {
      "cell_type": "code",
      "metadata": {
        "id": "MKxjPvLOwQR0",
        "colab": {
          "base_uri": "https://localhost:8080/"
        },
        "outputId": "17fef0b3-3dd3-4784-ccdd-bc9970682ca5"
      },
      "source": [
        "# 機械学習によりモデルを作成する際、機械が学習してモデルを作成する用の学習用データと、\n",
        "# 機械が学習用データで学習した精度を確認する評価用データを準備します\n",
        "# 今回は、scikit-learnのtrain_test_splitメソッドを使って、これまで見てきたワインのデータを学習用データ7割、評価用データ3割に分割します\n",
        "\n",
        "# まず、データを予測したい値である品質（目的変数）と、それ以外の変数（説明変数）に分割します\n",
        "Xw = df_w.drop(\"quality\", axis=1)\n",
        "yw = df_w[\"quality\"]\n",
        "Xr = df_r.drop(\"quality\", axis=1)\n",
        "yr = df_r[\"quality\"]\n",
        "print(df_w.shape, Xw.shape, yw.shape)\n",
        "print(df_r.shape, Xr.shape, yr.shape)"
      ],
      "execution_count": null,
      "outputs": [
        {
          "output_type": "stream",
          "text": [
            "(4898, 12) (4898, 11) (4898,)\n",
            "(1599, 12) (1599, 11) (1599,)\n"
          ],
          "name": "stdout"
        }
      ]
    },
    {
      "cell_type": "code",
      "metadata": {
        "scrolled": true,
        "id": "ld9RCgyuwQR0",
        "colab": {
          "base_uri": "https://localhost:8080/"
        },
        "outputId": "f576b4f4-486f-43dd-8826-3815fa564339"
      },
      "source": [
        "# 学習用データと評価用データに分割します\n",
        "from sklearn.model_selection import train_test_split\n",
        "\n",
        "RATE_TEST = 0.3\n",
        "Xw_train, Xw_test, yw_train, yw_test = train_test_split(Xw, yw, test_size=RATE_TEST, random_state=1)\n",
        "Xr_train, Xr_test, yr_train, yr_test = train_test_split(Xr, yr, test_size=RATE_TEST, random_state=1)\n",
        "print(\"学習用\", Xw_train.shape, \"評価用\", Xw_test.shape, \"学習用\", yw_train.shape, \"評価用\", yw_test.shape)\n",
        "print(\"学習用\", Xr_train.shape, \"評価用\", Xr_test.shape, \"学習用\", yr_train.shape, \"評価用\", yr_test.shape)"
      ],
      "execution_count": null,
      "outputs": [
        {
          "output_type": "stream",
          "text": [
            "学習用 (3428, 11) 評価用 (1470, 11) 学習用 (3428,) 評価用 (1470,)\n",
            "学習用 (1119, 11) 評価用 (480, 11) 学習用 (1119,) 評価用 (480,)\n"
          ],
          "name": "stdout"
        }
      ]
    },
    {
      "cell_type": "code",
      "metadata": {
        "id": "dxjM1NZJwQR0"
      },
      "source": [
        "# 各変数を平均0、標準偏差1に標準化する\n",
        "# 各変数を同じ縮尺の空間で分析可能にする、各変数の重要度を比較しやすくするため\n",
        "\n",
        "# scikit-learnのStandardScalerメソッドを使用\n",
        "from sklearn.preprocessing import StandardScaler\n",
        "\n",
        "sc_w = StandardScaler()\n",
        "sc_w.fit(Xw_train)\n",
        "Xw_train_stand = sc_w.transform(Xw_train)\n",
        "Xw_test_stand = sc_w.transform(Xw_test)\n",
        "yw_train_stand = (yw_train - yw_train.mean())/yw_train.std()\n",
        "yw_test_stand = (yw_test - yw_train.mean())/yw_train.std()\n",
        "\n",
        "sc_r = StandardScaler()\n",
        "sc_r.fit(Xr_train)\n",
        "Xr_train_stand = sc_r.transform(Xr_train)\n",
        "Xr_test_stand = sc_r.transform(Xr_test)\n",
        "yr_train_stand = (yr_train - yr_train.mean())/yr_train.std()\n",
        "yr_test_stand= (yr_test - yr_train.mean())/yr_train.std()"
      ],
      "execution_count": null,
      "outputs": []
    },
    {
      "cell_type": "code",
      "metadata": {
        "id": "L71zNdfbwQR1",
        "colab": {
          "base_uri": "https://localhost:8080/",
          "height": 348
        },
        "outputId": "663e24a7-2766-4c73-b890-ce28adb25cc0"
      },
      "source": [
        "# 標準化の確認\n",
        "# 標準化後は平均0標準偏差１になっている\n",
        "\n",
        "plt.subplot(1, 2, 1)\n",
        "plt.scatter(Xw_train[\"fixed acidity\"], Xw_train[\"volatile acidity\"])\n",
        "plt.xlim(-12,12)\n",
        "plt.ylim(-12,12)\n",
        "plt.xlabel(\"fixed acidity\")\n",
        "plt.ylabel(\"volatile acidity\")\n",
        "plt.grid(True)\n",
        "plt.title(\"Original\")\n",
        "\n",
        "plt.subplot(1, 2, 2)\n",
        "plt.scatter(Xw_train_stand[:,0], Xw_train_stand[:,1])\n",
        "plt.xlabel(\"fixed acidity\")\n",
        "plt.grid(True)\n",
        "plt.title(\"Standard scaler\")\n",
        "\n",
        "print(\"mean and standard deviation with Standard scaler\")\n",
        "print(Xw_train_stand[:,0].mean(), \":\", Xw_train_stand[:,0].std())\n",
        "print(Xw_train_stand[:,1].mean(), \":\", Xw_train_stand[:,1].std())"
      ],
      "execution_count": null,
      "outputs": [
        {
          "output_type": "stream",
          "text": [
            "mean and standard deviation with Standard scaler\n",
            "-6.824568137369107e-16 : 1.0\n",
            "-1.0674723130584936e-16 : 1.0\n"
          ],
          "name": "stdout"
        },
        {
          "output_type": "display_data",
          "data": {
            "image/png": "[encoded data removed]",
            "text/plain": [
              "<Figure size 432x288 with 2 Axes>"
            ]
          },
          "metadata": {
            "tags": [],
            "needs_background": "light"
          }
        }
      ]
    },
    {
      "cell_type": "code",
      "metadata": {
        "id": "5gtH6X_UwQR1"
      },
      "source": [
        "# ここから実際に重回帰を用いた予測をします\n",
        "\n",
        "# 重回帰分析のパッケージをインポート\n",
        "from sklearn.linear_model import LinearRegression\n",
        "\n",
        "# 赤ワインに対して重回帰分析をする\n",
        "lr_r = LinearRegression().fit(Xr_train_stand, yr_train_stand)"
      ],
      "execution_count": null,
      "outputs": []
    },
    {
      "cell_type": "code",
      "metadata": {
        "id": "lbZRU_M4wQR1",
        "colab": {
          "base_uri": "https://localhost:8080/",
          "height": 301
        },
        "outputId": "9ac3df37-6e22-449a-a537-8dcf3c7fc976"
      },
      "source": [
        "# 実績と予測結果とを比較する\n",
        "\n",
        "# 標準化した値から、実際の値へ戻す\n",
        "yr_predict = lr_r.predict(Xr_test_stand) * yr_train.std() + yr_train.mean()\n",
        "\n",
        "# 実績値（Actual quality）と予測値（Predicted quality）との散布図を作成し、精度を確認する\n",
        "plt.scatter(yr_test, yr_predict)\n",
        "plt.plot(range(2,10), range(2,10))\n",
        "plt.xlim(2,9)\n",
        "plt.ylim(2,9)\n",
        "plt.xlabel(\"Actual quality\")\n",
        "plt.ylabel(\"Predicted quality\")\n",
        "plt.gca().set_aspect(\"equal\", adjustable=\"box\")\n",
        "\n",
        "# 誤差の評価\n",
        "rmse_r = np.sqrt(sum((yr_test - yr_predict) ** 2) / len(yr_test))\n",
        "print(\"RMSE：\", rmse_r)"
      ],
      "execution_count": null,
      "outputs": [
        {
          "output_type": "stream",
          "text": [
            "RMSE： 0.6439937591429782\n"
          ],
          "name": "stdout"
        },
        {
          "output_type": "display_data",
          "data": {
            "image/png": "[encoded data removed]",
            "text/plain": [
              "<Figure size 432x288 with 1 Axes>"
            ]
          },
          "metadata": {
            "tags": [],
            "needs_background": "light"
          }
        }
      ]
    },
    {
      "cell_type": "code",
      "metadata": {
        "id": "tRonePzYwQR1"
      },
      "source": [
        "# 対角線の青い線が、実績=予測の線、対角線上に点がのると精度が高い\n",
        "# 今回は、x軸の実績が増えるに従い、予測値も綺麗にではないが、若干増加する傾向を捉えている\n",
        "# RMSEという誤差で0.64"
      ],
      "execution_count": null,
      "outputs": []
    },
    {
      "cell_type": "code",
      "metadata": {
        "id": "-U4CXL-1wQR2",
        "colab": {
          "base_uri": "https://localhost:8080/",
          "height": 298
        },
        "outputId": "4ff35e13-67e6-4ccf-985a-4ba4d8ee5eeb"
      },
      "source": [
        "# 品質への各変数の影響度を確認する\n",
        "\n",
        "df_coef_r = pd.DataFrame({\"Coef\":lr_r.coef_, \"Coef_abs\":np.abs(lr_r.coef_)})\n",
        "df_coef_r.index = Xr.columns\n",
        "df_coef_r = df_coef_r.sort_values(by=\"Coef_abs\")\n",
        "df_coef_r[\"Coef\"].plot(kind=\"barh\", title=\"Coefficients of Red wine\", color=\"red\")"
      ],
      "execution_count": null,
      "outputs": [
        {
          "output_type": "execute_result",
          "data": {
            "text/plain": [
              "<matplotlib.axes._subplots.AxesSubplot at 0x7fa951dcca90>"
            ]
          },
          "metadata": {
            "tags": []
          },
          "execution_count": 51
        },
        {
          "output_type": "display_data",
          "data": {
            "image/png": "[encoded data removed]",
            "text/plain": [
              "<Figure size 432x288 with 1 Axes>"
            ]
          },
          "metadata": {
            "tags": [],
            "needs_background": "light"
          }
        }
      ]
    },
    {
      "cell_type": "code",
      "metadata": {
        "id": "PTLKNGZzwQR2"
      },
      "source": [
        "# ⇒ 0を中心に、正に相関のある変数は右側のプラス側へ、負に相関がある変数は左のマイナス側へ\n",
        "# ⇒ 今回、白ワインの品質が高い場合は、alcohol濃度が高く、\n",
        "# ⇒ total sulfur dioxide(総亜硫酸濃度)とvolatile acidity(酢酸濃度)は低い方がよい、となっている"
      ],
      "execution_count": null,
      "outputs": []
    },
    {
      "cell_type": "code",
      "metadata": {
        "id": "DlcRnyo4InoF"
      },
      "source": [
        "lr_w = LinearRegression().fit(Xw_train_stand, yw_train_stand)"
      ],
      "execution_count": null,
      "outputs": []
    },
    {
      "cell_type": "code",
      "metadata": {
        "colab": {
          "base_uri": "https://localhost:8080/",
          "height": 301
        },
        "id": "J8Y-suPdIqTW",
        "outputId": "64a2d91a-fef6-41a0-c55a-9c3570c83c57"
      },
      "source": [
        "# 実績と予測結果とを比較する\r\n",
        "\r\n",
        "# 標準化した値から、実際の値へ戻す\r\n",
        "yw_predict = lr_w.predict(Xw_test_stand) * yw_train.std() + yw_train.mean()\r\n",
        "\r\n",
        "# 実績値（Actual quality）と予測値（Predicted quality）との散布図を作成し、精度を確認する\r\n",
        "plt.scatter(yw_test, yw_predict)\r\n",
        "plt.plot(range(2,10), range(2,10))\r\n",
        "plt.xlim(2,9)\r\n",
        "plt.ylim(2,9)\r\n",
        "plt.xlabel(\"Actual quality\")\r\n",
        "plt.ylabel(\"Predicted quality\")\r\n",
        "plt.gca().set_aspect(\"equal\", adjustable=\"box\")\r\n",
        "\r\n",
        "# 誤差の評価\r\n",
        "rmse_w = np.sqrt(sum((yw_test - yw_predict) ** 2) / len(yw_test))\r\n",
        "print(\"RMSE：\", rmse_w)"
      ],
      "execution_count": null,
      "outputs": [
        {
          "output_type": "stream",
          "text": [
            "RMSE： 0.7338465684364135\n"
          ],
          "name": "stdout"
        },
        {
          "output_type": "display_data",
          "data": {
            "image/png": "[encoded data removed]",
            "text/plain": [
              "<Figure size 432x288 with 1 Axes>"
            ]
          },
          "metadata": {
            "tags": [],
            "needs_background": "light"
          }
        }
      ]
    },
    {
      "cell_type": "code",
      "metadata": {
        "id": "8iFDcNryI0Oz"
      },
      "source": [
        ""
      ],
      "execution_count": null,
      "outputs": []
    }
  ]
}