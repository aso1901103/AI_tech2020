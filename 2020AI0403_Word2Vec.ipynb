{
  "nbformat": 4,
  "nbformat_minor": 0,
  "metadata": {
    "colab": {
      "name": "2020AI0403_Word2Vec.ipynb",
      "provenance": [],
      "authorship_tag": "ABX9TyPFGrZJDSsoNjUeYqHCiTNN",
      "include_colab_link": true
    },
    "kernelspec": {
      "name": "python3",
      "display_name": "Python 3"
    }
  },
  "cells": [
    {
      "cell_type": "markdown",
      "metadata": {
        "id": "view-in-github",
        "colab_type": "text"
      },
      "source": [
        "<a href=\"https://colab.research.google.com/github/aso1901103/AI_tech2020/blob/master/2020AI0403_Word2Vec.ipynb\" target=\"_parent\"><img src=\"https://colab.research.google.com/assets/colab-badge.svg\" alt=\"Open In Colab\"/></a>"
      ]
    },
    {
      "cell_type": "markdown",
      "metadata": {
        "id": "dvhUiNxPS-aO"
      },
      "source": [
        "### 単語の意味を判定する\r\n",
        "単語の意味ベクトルを学習させたモデル（コーパスモデル）をダウンロードして解凍\r\n"
      ]
    },
    {
      "cell_type": "code",
      "metadata": {
        "colab": {
          "base_uri": "https://localhost:8080/"
        },
        "id": "i6wFYcgGS56m",
        "outputId": "4e5ca140-7d06-4603-8311-80af72fac1bc"
      },
      "source": [
        "import urllib.request as req\r\n",
        "# コーパスモデルをダウンロード\r\n",
        "url = \"https://www.dropbox.com/s/8kv39qpvg965i06/word2vec.gensim.zip?dl=1\"\r\n",
        "save_file = \"word2vec.gensim.model.zip\"\r\n",
        "req.urlretrieve( url, save_file )\r\n",
        "\r\n",
        "# unzipで解凍\r\n",
        "!unzip -o -q \"word2vec.gensim.model.zip\"\r\n",
        "print(\"word2vec.zip解凍\")"
      ],
      "execution_count": 1,
      "outputs": [
        {
          "output_type": "stream",
          "text": [
            "word2vec.zip解凍\n"
          ],
          "name": "stdout"
        }
      ]
    },
    {
      "cell_type": "markdown",
      "metadata": {
        "id": "s9UbnoAhTCzO"
      },
      "source": [
        "### コーパスモデルをプログラムに読み込む"
      ]
    },
    {
      "cell_type": "code",
      "metadata": {
        "id": "Stzso4gCTBvP"
      },
      "source": [
        "from gensim.models import Word2Vec\r\n",
        "# コーパスモデルを読み込んでWord2Vecの学習モデルインスタンスを取得\r\n",
        "model = Word2Vec.load(\"/content/word2vec.gensim.model\")"
      ],
      "execution_count": 2,
      "outputs": []
    },
    {
      "cell_type": "markdown",
      "metadata": {
        "id": "xIde4w2MTGNa"
      },
      "source": [
        "### コーパスモデルで単語の類似語を推論"
      ]
    },
    {
      "cell_type": "code",
      "metadata": {
        "colab": {
          "base_uri": "https://localhost:8080/"
        },
        "id": "IV9bRsTbTFsw",
        "outputId": "217c6cf6-37dc-4f6f-e73c-b8491bf2159d"
      },
      "source": [
        "# 学習モデルに引き渡した言葉の類似語を推論したリストを取得\r\n",
        "results = model.wv.most_similar( positive=['業務'], topn=5)\r\n",
        "# リストをループして表示\r\n",
        "for result in results:\r\n",
        "  print(result)"
      ],
      "execution_count": 3,
      "outputs": [
        {
          "output_type": "stream",
          "text": [
            "('事務', 0.8289206027984619)\n",
            "('民間企業', 0.7522704601287842)\n",
            "('郵便事業', 0.7504326105117798)\n",
            "('業務委託', 0.7485122680664062)\n",
            "('部署', 0.7473441362380981)\n"
          ],
          "name": "stdout"
        }
      ]
    },
    {
      "cell_type": "markdown",
      "metadata": {
        "id": "9ZGprOzwTK87"
      },
      "source": [
        "### 条件を組み合わせて推論"
      ]
    },
    {
      "cell_type": "code",
      "metadata": {
        "colab": {
          "base_uri": "https://localhost:8080/"
        },
        "id": "GMpTzkyZTJnZ",
        "outputId": "30bf1261-43f9-4d16-da9e-fde81aac606f"
      },
      "source": [
        "# ポジティブワードとネガティブワードを組み合わせる\r\n",
        "print(\"-----\")\r\n",
        "print(\"国王\")\r\n",
        "results = model.wv.most_similar(\"国王\")\r\n",
        "for result in results:\r\n",
        "  print(result)\r\n",
        "\r\n",
        "print(\"-----\")\r\n",
        "print(\"王\")\r\n",
        "results = model.wv.most_similar(\"王\")\r\n",
        "for result in results:\r\n",
        "  print(result)\r\n",
        "\r\n",
        "print(\"-----\")\r\n",
        "print(\"王様\")\r\n",
        "results = model.wv.most_similar(\"王様\")\r\n",
        "for result in results:\r\n",
        "  print(result)\r\n",
        "\r\n",
        "print(\"-----\")\r\n",
        "print(\"王様+女性\")\r\n",
        "results = model.wv.most_similar(positive=[\"王様\", \"女性\"])\r\n",
        "for result in results:\r\n",
        "  print(result)\r\n",
        "\r\n",
        "print(\"-----\")\r\n",
        "print(\"王様+女性-男性\")\r\n",
        "results = model.wv.most_similar(positive=[\"王様\", \"女性\"], negative=[\"男性\"])\r\n",
        "for result in results:\r\n",
        "  print(result)\r\n"
      ],
      "execution_count": 4,
      "outputs": [
        {
          "output_type": "stream",
          "text": [
            "-----\n",
            "国王\n",
            "('ツァーリ', 0.9053068161010742)\n",
            "('スルタン', 0.8805959820747375)\n",
            "('皇帝', 0.874972939491272)\n",
            "('スルターン', 0.8520403504371643)\n",
            "('女帝', 0.8492650389671326)\n",
            "('ジェームズ2世', 0.837557315826416)\n",
            "('王太子', 0.8365861177444458)\n",
            "('摂政', 0.8361721634864807)\n",
            "('イギリス国王', 0.8348546028137207)\n",
            "('君主', 0.8336648941040039)\n",
            "-----\n",
            "王\n",
            "('大王', 0.855927586555481)\n",
            "('皇帝', 0.8524040579795837)\n",
            "('先王', 0.8425959348678589)\n",
            "('君主', 0.824544370174408)\n",
            "('ローマ皇帝', 0.8206972479820251)\n",
            "('西ローマ皇帝', 0.8157353401184082)\n",
            "('王シ', 0.8076152205467224)\n",
            "('ファラオ', 0.8029801845550537)\n",
            "('女帝', 0.8029454350471497)\n",
            "('聖王', 0.7952451705932617)\n",
            "-----\n",
            "王様\n",
            "('野獣', 0.8659248352050781)\n",
            "('お姫様', 0.8607541918754578)\n",
            "('魔女', 0.8333204388618469)\n",
            "('花嫁', 0.830689013004303)\n",
            "('乙女', 0.8267987966537476)\n",
            "('キューピッド', 0.8178128004074097)\n",
            "('狩人', 0.8152097463607788)\n",
            "('父さん', 0.8097778558731079)\n",
            "('パパ', 0.8046603798866272)\n",
            "('帽子屋', 0.8032904863357544)\n",
            "-----\n",
            "王様+女性\n",
            "('少女', 0.8220486044883728)\n",
            "('彼女ら', 0.8072021007537842)\n",
            "('美女', 0.8049534559249878)\n",
            "('美少年', 0.8014258146286011)\n",
            "('お姫様', 0.798124372959137)\n",
            "('メイド', 0.7976080179214478)\n",
            "('彼女たち', 0.7953735589981079)\n",
            "('花嫁', 0.7931262254714966)\n",
            "('野獣', 0.7845075130462646)\n",
            "('貴婦人', 0.7812718152999878)\n",
            "-----\n",
            "王様+女性-男性\n",
            "('お姫様', 0.8531287312507629)\n",
            "('花嫁', 0.839175820350647)\n",
            "('野獣', 0.8315544128417969)\n",
            "('魔女', 0.8298223614692688)\n",
            "('乙女', 0.8235582709312439)\n",
            "('愛する人', 0.800349235534668)\n",
            "('天国', 0.7905834913253784)\n",
            "('悪魔', 0.7898154854774475)\n",
            "('キューピッド', 0.7896510362625122)\n",
            "('魔法使い', 0.788610577583313)\n"
          ],
          "name": "stdout"
        }
      ]
    },
    {
      "cell_type": "markdown",
      "metadata": {
        "id": "Y7n36ql4TTgq"
      },
      "source": [
        "### 任意の文章を形態素解析して単語を抽出し、指定した言葉との類似性を推論、出力する"
      ]
    },
    {
      "cell_type": "code",
      "metadata": {
        "colab": {
          "base_uri": "https://localhost:8080/"
        },
        "id": "h5wZ0q7oTNuH",
        "outputId": "7adeb8df-8a18-4744-f893-1413d9936ca5"
      },
      "source": [
        "# 「至急」という言葉に近い言葉をコーパスモデルに出力させる\r\n",
        "# 候補リストを取得\r\n",
        "results = model.wv.most_similar(positive=[\"至急\"])\r\n",
        "# リストの各要素を出力\r\n",
        "for result in results:\r\n",
        "  print(result)\r\n",
        "\r\n",
        "# # 文字セットの都合で文字化けしてエラーになる場合があるので注意\r\n",
        "# results = model.wv.most_similar(positive=[\"大至急\"])\r\n",
        "# # リストの各要素を出力\r\n",
        "# for result in results:\r\n",
        "#   print(result)\r\n",
        "\r\n",
        "results = model.wv.most_similar(positive=[\"急ぎ\"])\r\n",
        "# リストの各要素を出力\r\n",
        "for result in results:\r\n",
        "  print(result)"
      ],
      "execution_count": 5,
      "outputs": [
        {
          "output_type": "stream",
          "text": [
            "('急ぎ', 0.7244844436645508)\n",
            "('無電', 0.7031903266906738)\n",
            "('雄洋', 0.6877992153167725)\n",
            "('栄丸', 0.6654155850410461)\n",
            "('比叡', 0.6648874878883362)\n",
            "('信濃丸', 0.6561662554740906)\n",
            "('富士山丸', 0.6513621211051941)\n",
            "('退艦', 0.6435442566871643)\n",
            "('停船', 0.6430754065513611)\n",
            "('薄雲', 0.6411623358726501)\n",
            "('やむなく', 0.789318859577179)\n",
            "('ひそか', 0.7474408745765686)\n",
            "('ただちに', 0.7438754439353943)\n",
            "('ひとまず', 0.7431749105453491)\n",
            "('やむを得ず', 0.7409578561782837)\n",
            "('急ぐ', 0.7246897220611572)\n",
            "('至急', 0.7244844436645508)\n",
            "('すぐさま', 0.7139618396759033)\n",
            "('敗報', 0.7133142352104187)\n",
            "('渋る', 0.7113310098648071)\n"
          ],
          "name": "stdout"
        }
      ]
    },
    {
      "cell_type": "markdown",
      "metadata": {
        "id": "SZxbymsjTbar"
      },
      "source": [
        "###まず文章を形態素解析するためにMeCabと最新の辞書をインストール"
      ]
    },
    {
      "cell_type": "code",
      "metadata": {
        "colab": {
          "base_uri": "https://localhost:8080/"
        },
        "id": "SjNQVh1nTV4s",
        "outputId": "e508fd80-0611-469d-86bb-fc0daa468160"
      },
      "source": [
        "# 形態素解析ライブラリーMeCabと辞書（mecab-ipadic-NEologd）のインストール\r\n",
        "!apt-get -q -y install sudo file mecab libmecab-dev mecab-ipadic-utf8 git curl python-mecab > /dev/null\r\n",
        "!pip install mecab-python3 > /dev/null\r\n",
        "\r\n",
        "# MeCabの実行時の指定パスをインストールパスにリンクさせる\r\n",
        "# シンボリックリンク（/etc/mecabrcを/usr/local/etc/mecabrcで参照できるようにする）\r\n",
        "!ln -s /etc/mecabrc /usr/local/etc/mecabrc"
      ],
      "execution_count": 6,
      "outputs": [
        {
          "output_type": "stream",
          "text": [
            "ln: failed to create symbolic link '/usr/local/etc/mecabrc': File exists\n"
          ],
          "name": "stdout"
        }
      ]
    },
    {
      "cell_type": "code",
      "metadata": {
        "colab": {
          "base_uri": "https://localhost:8080/"
        },
        "id": "tC7my0qtTfKK",
        "outputId": "06310cd3-5960-4590-999f-17eed0046264"
      },
      "source": [
        "# 最新の辞書（ipadic-neologd）をgithubからclone\r\n",
        "!git clone --depth 1 http://github.com/neologd/mecab-ipadic-neologd.git > /dev/null\r\n",
        "# ipadic-neologdのインストールプログラムを実行\r\n",
        "!echo yes | mecab-ipadic-neologd/bin/install-mecab-ipadic-neologd -n > /dev/null 2>&1"
      ],
      "execution_count": 7,
      "outputs": [
        {
          "output_type": "stream",
          "text": [
            "fatal: destination path 'mecab-ipadic-neologd' already exists and is not an empty directory.\n"
          ],
          "name": "stdout"
        }
      ]
    },
    {
      "cell_type": "markdown",
      "metadata": {
        "id": "i1mbydyQTjYq"
      },
      "source": [
        "### 最新の辞書を読み込んでMeCabのインスタンスを生成"
      ]
    },
    {
      "cell_type": "code",
      "metadata": {
        "colab": {
          "base_uri": "https://localhost:8080/"
        },
        "id": "eydrZh0uTg3E",
        "outputId": "1cab6fab-f647-4b26-e7d8-11cfbdf843a3"
      },
      "source": [
        "# 辞書のインストール済みディレクトリを確認表示\r\n",
        "!echo `mecab-config --dicdir`\"/mecab-ipadic-neologd\""
      ],
      "execution_count": 8,
      "outputs": [
        {
          "output_type": "stream",
          "text": [
            "/usr/lib/x86_64-linux-gnu/mecab/dic/mecab-ipadic-neologd\n"
          ],
          "name": "stdout"
        }
      ]
    },
    {
      "cell_type": "code",
      "metadata": {
        "id": "EuC3z-XjTpLH"
      },
      "source": [
        "import MeCab\r\n",
        "# mecab-ipadic-neologd辞書を指定して、MeCabオブジェクトのインスタンスを生成\r\n",
        "path_neologd = \"/usr/lib/x86_64-linux-gnu/mecab/dic/mecab-ipadic-neologd\"\r\n",
        "tagger = MeCab.Tagger( \"-d \" + path_neologd )"
      ],
      "execution_count": 9,
      "outputs": []
    },
    {
      "cell_type": "markdown",
      "metadata": {
        "id": "0cjlI2dNTm-i"
      },
      "source": [
        "### 特定の文章からMeCabの形態素解析で単語を抜き出し、指定した単語との類似度ベクトルをWord2Vecで判定する\r\n",
        "処理を関数で作る\r\n"
      ]
    },
    {
      "cell_type": "code",
      "metadata": {
        "id": "QG85BzUtTlqE"
      },
      "source": [
        "# 渡されたテキストに含まれる各単語と「至急」の類似度を表示する関数\r\n",
        "def print_emargency(text, keyword):\r\n",
        "  # 引き渡された値を表示\r\n",
        "  print( \"target String: \", text, \"keyword: \", keyword )\r\n",
        "  # MeCabで形態素のノードリストに変換する\r\n",
        "  node = tagger.parseToNode( text )\r\n",
        "  # ノードリストの各要素をループして処理\r\n",
        "  while node is not None:\r\n",
        "    # 名詞、動詞、形容詞以外のストップワードを除去し、残った単語をWord2Vecで判定\r\n",
        "    # ストップワードを除去\r\n",
        "    fields = node.feature.split(\",\")\r\n",
        "    if fields[0] == '名詞' or fields[0] == '動詞' or fields[0] == '形容詞':\r\n",
        "      # Word2Vecで第二引数keywordとの類似度ベクトルを表示する\r\n",
        "      print( model.wv.similarity( node.surface, keyword ), node.surface )\r\n",
        "    node = node.next"
      ],
      "execution_count": 10,
      "outputs": []
    },
    {
      "cell_type": "code",
      "metadata": {
        "colab": {
          "base_uri": "https://localhost:8080/"
        },
        "id": "O-Oq8t0JTw5I",
        "outputId": "11355fab-ac6e-4563-a3c5-85f3b4fe29bb"
      },
      "source": [
        "# 関数実行\r\n",
        "print_emargency(\"PCが起動しなくなりました。急いでいます。\", \"至急\")\r\n",
        "print_emargency(\"使い方がよくわかりません\", \"至急\")"
      ],
      "execution_count": 11,
      "outputs": [
        {
          "output_type": "stream",
          "text": [
            "target String:  PCが起動しなくなりました。急いでいます。 keyword:  至急\n",
            "-0.09927091 PC\n",
            "0.118230164 起動\n",
            "0.044207577 し\n",
            "0.037055567 なり\n",
            "0.3655378 急い\n",
            "-0.06583241 い\n",
            "target String:  使い方がよくわかりません keyword:  至急\n",
            "-0.0030400325 使い方\n",
            "0.058717843 わかり\n"
          ],
          "name": "stdout"
        }
      ]
    },
    {
      "cell_type": "code",
      "metadata": {
        "colab": {
          "base_uri": "https://localhost:8080/"
        },
        "id": "zOI439TqTyjw",
        "outputId": "6e4ec013-24c7-4f90-a309-a4fdda498871"
      },
      "source": [
        "print_emargency(\"明日は晴れですか\", \"天気\")\r\n",
        "print_emargency(\"おなかがすきました\", \"天気\")"
      ],
      "execution_count": 12,
      "outputs": [
        {
          "output_type": "stream",
          "text": [
            "target String:  明日は晴れですか keyword:  天気\n",
            "0.42330882 明日\n",
            "0.6514369 晴れ\n",
            "target String:  おなかがすきました keyword:  天気\n",
            "0.25886172 おなか\n",
            "0.27183193 すき\n"
          ],
          "name": "stdout"
        }
      ]
    },
    {
      "cell_type": "code",
      "metadata": {
        "id": "WsXvwqdPT03_"
      },
      "source": [
        ""
      ],
      "execution_count": 12,
      "outputs": []
    }
  ]
}